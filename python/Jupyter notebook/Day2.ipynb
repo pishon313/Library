{
 "cells": [
  {
   "cell_type": "code",
   "execution_count": 1,
   "id": "759b23ef",
   "metadata": {},
   "outputs": [
    {
     "name": "stdout",
     "output_type": "stream",
     "text": [
      "{1, 2, 3}\n"
     ]
    }
   ],
   "source": [
    "s= set([1,2,3,1,2,3])\n",
    "print(s)"
   ]
  },
  {
   "cell_type": "code",
   "execution_count": 2,
   "id": "518cc302",
   "metadata": {},
   "outputs": [
    {
     "name": "stdout",
     "output_type": "stream",
     "text": [
      "{1, 2, 3, 5}\n"
     ]
    }
   ],
   "source": [
    "s.add(5)\n",
    "print(s)"
   ]
  },
  {
   "cell_type": "code",
   "execution_count": 3,
   "id": "eab356a8",
   "metadata": {},
   "outputs": [
    {
     "name": "stdout",
     "output_type": "stream",
     "text": [
      "{1, 2, 3, 5}\n"
     ]
    }
   ],
   "source": [
    "s.add(2)\n",
    "print(s)"
   ]
  },
  {
   "cell_type": "code",
   "execution_count": 4,
   "id": "4f73c101",
   "metadata": {},
   "outputs": [
    {
     "name": "stdout",
     "output_type": "stream",
     "text": [
      "{1, 2, 3}\n"
     ]
    }
   ],
   "source": [
    "s.remove(5)\n",
    "print(s)"
   ]
  },
  {
   "cell_type": "code",
   "execution_count": 5,
   "id": "778d5d14",
   "metadata": {},
   "outputs": [
    {
     "ename": "AttributeError",
     "evalue": "'set' object has no attribute 'revmove'",
     "output_type": "error",
     "traceback": [
      "\u001b[0;31m---------------------------------------------------------------------------\u001b[0m",
      "\u001b[0;31mAttributeError\u001b[0m                            Traceback (most recent call last)",
      "\u001b[0;32m<ipython-input-5-ce218e599c7a>\u001b[0m in \u001b[0;36m<module>\u001b[0;34m\u001b[0m\n\u001b[0;32m----> 1\u001b[0;31m \u001b[0ms\u001b[0m\u001b[0;34m.\u001b[0m\u001b[0mrevmove\u001b[0m\u001b[0;34m(\u001b[0m\u001b[0;36m7\u001b[0m\u001b[0;34m)\u001b[0m\u001b[0;34m\u001b[0m\u001b[0;34m\u001b[0m\u001b[0m\n\u001b[0m\u001b[1;32m      2\u001b[0m \u001b[0mprint\u001b[0m\u001b[0;34m(\u001b[0m\u001b[0ms\u001b[0m\u001b[0;34m)\u001b[0m\u001b[0;34m\u001b[0m\u001b[0;34m\u001b[0m\u001b[0m\n",
      "\u001b[0;31mAttributeError\u001b[0m: 'set' object has no attribute 'revmove'"
     ]
    }
   ],
   "source": [
    "s.revmove(7)\n",
    "print(s)"
   ]
  },
  {
   "cell_type": "code",
   "execution_count": 6,
   "id": "1508a926",
   "metadata": {},
   "outputs": [
    {
     "name": "stdout",
     "output_type": "stream",
     "text": [
      "{1, 2, 3, 4, 5, 6, 7}\n"
     ]
    }
   ],
   "source": [
    "s.update([1,4,5,6,7])\n",
    "print(s)"
   ]
  },
  {
   "cell_type": "code",
   "execution_count": 7,
   "id": "51ab6e30",
   "metadata": {},
   "outputs": [
    {
     "name": "stdout",
     "output_type": "stream",
     "text": [
      "{1, 2, 3, 4, 5, 6}\n"
     ]
    }
   ],
   "source": [
    "s.discard(7)\n",
    "print(s)"
   ]
  },
  {
   "cell_type": "code",
   "execution_count": 8,
   "id": "5c62890e",
   "metadata": {},
   "outputs": [
    {
     "name": "stdout",
     "output_type": "stream",
     "text": [
      "{1, 2, 3, 4, 5, 6}\n"
     ]
    }
   ],
   "source": [
    "s.discard(9)\n",
    "print(s)\n",
    "\n",
    "# remove 는 없는 원소를 제거시 오류가 나지만 discard는 없는 것을 제거하려 해도\n",
    "# 오류가 나지 안는다. 상황에 맞게 맞는 걸 쓰면 된다 "
   ]
  },
  {
   "cell_type": "code",
   "execution_count": 9,
   "id": "feb18b19",
   "metadata": {},
   "outputs": [
    {
     "name": "stdout",
     "output_type": "stream",
     "text": [
      "set()\n"
     ]
    }
   ],
   "source": [
    "s.clear()\n",
    "print(s)"
   ]
  },
  {
   "cell_type": "code",
   "execution_count": 12,
   "id": "3b3fee2f",
   "metadata": {},
   "outputs": [
    {
     "name": "stdout",
     "output_type": "stream",
     "text": [
      "{1, 2, 3, 4, 5, 6, 7}\n",
      "{1, 2, 3, 4, 5, 6, 7}\n",
      "{3, 4, 5}\n",
      "{3, 4, 5}\n",
      "{1, 2}\n",
      "{1, 2}\n"
     ]
    }
   ],
   "source": [
    "s1 = set([1,2,3,4,5])\n",
    "s2 = set([3,4,5,6,7])\n",
    "\n",
    "print(s1.union(s2))#합집합\n",
    "print(s1|s2) # 합집합\n",
    "print(s1.intersection(s2))# 교집합\n",
    "print(s1 & s2)\n",
    "print(s1.difference(s2)) #차집합\n",
    "print(s1-s2) #차집합"
   ]
  },
  {
   "cell_type": "code",
   "execution_count": 14,
   "id": "896bcf40",
   "metadata": {},
   "outputs": [
    {
     "name": "stdout",
     "output_type": "stream",
     "text": [
      "Jane\n"
     ]
    }
   ],
   "source": [
    "student_info = {20190001: \"Tom\", 20190002:\"Jane\",\\\n",
    "               20190003: \"Mike\", 20190004: 'Jessica'}\n",
    "print(student_info[20190002])\n"
   ]
  },
  {
   "cell_type": "code",
   "execution_count": 16,
   "id": "63c00d85",
   "metadata": {},
   "outputs": [
    {
     "name": "stdout",
     "output_type": "stream",
     "text": [
      "{20190001: 'Tom', 20190002: 'Kate', 20190003: 'Mike', 20190004: 'Jessica'}\n"
     ]
    }
   ],
   "source": [
    "student_info[20190002] = 'Kate'\n",
    "print(student_info)"
   ]
  },
  {
   "cell_type": "code",
   "execution_count": 17,
   "id": "25c78f25",
   "metadata": {},
   "outputs": [
    {
     "name": "stdout",
     "output_type": "stream",
     "text": [
      "{'USA': 1, 'Korea': 82, 'China': 86, 'Malaysia': 60}\n"
     ]
    }
   ],
   "source": [
    "country_code = {'USA':1, 'Korea':82, 'China':86,\\\n",
    "               'Malaysia':60}\n",
    "print(country_code)"
   ]
  },
  {
   "cell_type": "code",
   "execution_count": 18,
   "id": "ac8f370a",
   "metadata": {},
   "outputs": [
    {
     "name": "stdout",
     "output_type": "stream",
     "text": [
      "dict_keys(['USA', 'Korea', 'China', 'Malaysia'])\n"
     ]
    }
   ],
   "source": [
    "print(country_code.keys())"
   ]
  },
  {
   "cell_type": "code",
   "execution_count": 21,
   "id": "18f0a55d",
   "metadata": {},
   "outputs": [
    {
     "name": "stdout",
     "output_type": "stream",
     "text": [
      "{'USA': 1, 'Korea': 82, 'China': 86, 'Malaysia': 60, 'Gernam': 49}\n"
     ]
    }
   ],
   "source": [
    "country_code['Gernam']=49\n",
    "print(country_code)\n",
    "# 없는 걸 쓰면 추가된다"
   ]
  },
  {
   "cell_type": "code",
   "execution_count": 22,
   "id": "dfbff732",
   "metadata": {},
   "outputs": [
    {
     "name": "stdout",
     "output_type": "stream",
     "text": [
      "dict_values([1, 82, 86, 60, 49])\n"
     ]
    }
   ],
   "source": [
    "print(country_code.values())"
   ]
  },
  {
   "cell_type": "code",
   "execution_count": 23,
   "id": "e4fd621e",
   "metadata": {},
   "outputs": [
    {
     "name": "stdout",
     "output_type": "stream",
     "text": [
      "dict_items([('USA', 1), ('Korea', 82), ('China', 86), ('Malaysia', 60), ('Gernam', 49)])\n"
     ]
    }
   ],
   "source": [
    "print(country_code.items())"
   ]
  },
  {
   "cell_type": "code",
   "execution_count": 26,
   "id": "a2baa1fe",
   "metadata": {
    "scrolled": true
   },
   "outputs": [
    {
     "name": "stdout",
     "output_type": "stream",
     "text": [
      "Key: USA\n",
      "Valuse: 1\n",
      "Key: Korea\n",
      "Valuse: 82\n",
      "Key: China\n",
      "Valuse: 86\n",
      "Key: Malaysia\n",
      "Valuse: 60\n",
      "Key: Gernam\n",
      "Valuse: 49\n"
     ]
    }
   ],
   "source": [
    "for k, v in country_code.items():\n",
    "    print('Key:',k)\n",
    "    print('Valuse:',v)"
   ]
  },
  {
   "cell_type": "code",
   "execution_count": 27,
   "id": "1e6a9d52",
   "metadata": {},
   "outputs": [
    {
     "name": "stdout",
     "output_type": "stream",
     "text": [
      "False\n"
     ]
    }
   ],
   "source": [
    "print(85 in country_code.values())"
   ]
  },
  {
   "cell_type": "markdown",
   "id": "9c3acff1",
   "metadata": {},
   "source": [
    "deque.append(item): 아이템을 오른쪽 끝에 삽입\\\n",
    "deque.appendleft(itme): 아이템을 왼쪽 끄텡 삽입\\\n",
    "deque.pop() : 오른쪽 끝 요소를 가져옴과 동시에 데크에서 삭제\\\n",
    "deque.popleft() : 왼쪽 끝 요소를 가져옴과 동시에 데크에서 삭제\\\n",
    "deque.extend(array) : 어레이를 순환하면서 오른쪽에 추가\\\n",
    "deque.extendleft(array): 어레이를 순환하면서 왼쪽에 추가 \\\n",
    "deque.remove(item): 아이템을 데크에서 찾은 뒤 삭제\\\n",
    "deque.rotate(n, -n) : 지정 횟수만큼 데크를 회전"
   ]
  },
  {
   "cell_type": "code",
   "execution_count": 28,
   "id": "7153f6a8",
   "metadata": {},
   "outputs": [],
   "source": [
    "from collections import deque"
   ]
  },
  {
   "cell_type": "code",
   "execution_count": 29,
   "id": "4c633449",
   "metadata": {},
   "outputs": [
    {
     "name": "stdout",
     "output_type": "stream",
     "text": [
      "deque([0, 1, 2, 3, 4])\n"
     ]
    }
   ],
   "source": [
    "deque_list = deque()\n",
    "for i in range(5):\n",
    "    deque_list.append(i)\n",
    "    \n",
    "print(deque_list)"
   ]
  },
  {
   "cell_type": "code",
   "execution_count": 31,
   "id": "ef72902f",
   "metadata": {},
   "outputs": [
    {
     "name": "stdout",
     "output_type": "stream",
     "text": [
      "4\n",
      "3\n",
      "deque([0, 1, 2])\n"
     ]
    }
   ],
   "source": [
    "print(deque_list.pop())\n",
    "print(deque_list.pop())\n",
    "print(deque_list)"
   ]
  },
  {
   "cell_type": "code",
   "execution_count": 32,
   "id": "e0a5576e",
   "metadata": {},
   "outputs": [
    {
     "name": "stdout",
     "output_type": "stream",
     "text": [
      "deque([6, 5, 0, 1, 2])\n"
     ]
    }
   ],
   "source": [
    "deque_list.appendleft(5)\n",
    "deque_list.appendleft(6)\n",
    "print(deque_list)"
   ]
  },
  {
   "cell_type": "code",
   "execution_count": 33,
   "id": "83087c0d",
   "metadata": {},
   "outputs": [
    {
     "name": "stdout",
     "output_type": "stream",
     "text": [
      "6\n",
      "5\n",
      "deque([0, 1, 2])\n"
     ]
    }
   ],
   "source": [
    "print(deque_list.popleft())\n",
    "print(deque_list.popleft())\n",
    "print(deque_list)"
   ]
  },
  {
   "cell_type": "code",
   "execution_count": 34,
   "id": "10f5bd60",
   "metadata": {},
   "outputs": [
    {
     "name": "stdout",
     "output_type": "stream",
     "text": [
      "deque([0, 1, 2, 3, 4])\n"
     ]
    }
   ],
   "source": [
    "deque_list.append(3)\n",
    "deque_list.append(4)\n",
    "print(deque_list)"
   ]
  },
  {
   "cell_type": "code",
   "execution_count": 36,
   "id": "ac3637e0",
   "metadata": {},
   "outputs": [
    {
     "name": "stdout",
     "output_type": "stream",
     "text": [
      "deque([3, 4, 0, 1, 2])\n"
     ]
    }
   ],
   "source": [
    "deque_list.rotate(2)\n",
    "print(deque_list)"
   ]
  },
  {
   "cell_type": "code",
   "execution_count": 38,
   "id": "ffb2e4cc",
   "metadata": {},
   "outputs": [
    {
     "name": "stdout",
     "output_type": "stream",
     "text": [
      "deque([0, 1, 2, 5, 6, 7, 3, 4])\n"
     ]
    }
   ],
   "source": [
    "deque_list.rotate(-2)\n",
    "print(deque_list)"
   ]
  },
  {
   "cell_type": "code",
   "execution_count": 39,
   "id": "5b4716e9",
   "metadata": {},
   "outputs": [
    {
     "name": "stdout",
     "output_type": "stream",
     "text": [
      "deque([0, 1, 2, 5, 6, 7, 3, 4, 5, 6, 7])\n"
     ]
    }
   ],
   "source": [
    "deque_list.extend([5,6,7])\n",
    "print(deque_list)"
   ]
  },
  {
   "cell_type": "code",
   "execution_count": 40,
   "id": "1be02896",
   "metadata": {},
   "outputs": [
    {
     "name": "stdout",
     "output_type": "stream",
     "text": [
      "deque([10, 9, 0, 1, 2, 5, 6, 7, 3, 4, 5, 6, 7])\n"
     ]
    }
   ],
   "source": [
    "deque_list.extendleft([9,10])\n",
    "print(deque_list)"
   ]
  },
  {
   "cell_type": "markdown",
   "id": "b398d631",
   "metadata": {},
   "source": [
    "### OrderedDict\n",
    "    - key의 순서를 입력한 순으로 보장하는 Dictionary\n",
    " "
   ]
  },
  {
   "cell_type": "code",
   "execution_count": 41,
   "id": "b6752866",
   "metadata": {},
   "outputs": [],
   "source": [
    "from collections import OrderedDict"
   ]
  },
  {
   "cell_type": "code",
   "execution_count": 231,
   "id": "397185d1",
   "metadata": {},
   "outputs": [],
   "source": [
    "d= dict()\n",
    "d['a'] = 400\n",
    "d['x'] = 100\n",
    "d['y'] = 200\n",
    "d['z'] = 300"
   ]
  },
  {
   "cell_type": "code",
   "execution_count": 232,
   "id": "92eb7009",
   "metadata": {},
   "outputs": [],
   "source": [
    "def get_key(x):\n",
    "    return x[0]"
   ]
  },
  {
   "cell_type": "code",
   "execution_count": 234,
   "id": "3b5c1605",
   "metadata": {},
   "outputs": [
    {
     "name": "stdout",
     "output_type": "stream",
     "text": [
      "OrderedDict([('a', 400), ('x', 100), ('y', 200), ('z', 300)])\n"
     ]
    }
   ],
   "source": [
    "od = OrderedDict(sorted(d.items(),key=get_key))\n",
    "#get_key 함수를 주면 key값만 넘어오는데, 그것을 sort 하라는 뜻\n",
    "print(od)"
   ]
  },
  {
   "cell_type": "markdown",
   "id": "56ccaec7",
   "metadata": {},
   "source": [
    "Lambda\n",
    "-익명 함수를 구혀하는데 사용"
   ]
  },
  {
   "cell_type": "code",
   "execution_count": 46,
   "id": "3828fd5f",
   "metadata": {},
   "outputs": [
    {
     "name": "stdout",
     "output_type": "stream",
     "text": [
      "5\n"
     ]
    }
   ],
   "source": [
    "def f(x,y):\n",
    "    return x+y\n",
    "print(f(1,4))"
   ]
  },
  {
   "cell_type": "code",
   "execution_count": 47,
   "id": "61837c2b",
   "metadata": {},
   "outputs": [
    {
     "name": "stdout",
     "output_type": "stream",
     "text": [
      "5\n"
     ]
    }
   ],
   "source": [
    "f= lambda x,y:x+y\n",
    "print(f(1,4))"
   ]
  },
  {
   "cell_type": "code",
   "execution_count": 49,
   "id": "efc38393",
   "metadata": {},
   "outputs": [
    {
     "name": "stdout",
     "output_type": "stream",
     "text": [
      "5\n"
     ]
    }
   ],
   "source": [
    "print((lambda x,y:x+y)(1,4))"
   ]
  },
  {
   "cell_type": "code",
   "execution_count": 50,
   "id": "f48107aa",
   "metadata": {},
   "outputs": [
    {
     "name": "stdout",
     "output_type": "stream",
     "text": [
      "3\n"
     ]
    }
   ],
   "source": [
    "f = lambda n , m : n if n%2 == 0 else m\n",
    "print(f(1,3))"
   ]
  },
  {
   "cell_type": "code",
   "execution_count": 51,
   "id": "ca724ba2",
   "metadata": {},
   "outputs": [
    {
     "name": "stdout",
     "output_type": "stream",
     "text": [
      "2\n"
     ]
    }
   ],
   "source": [
    "print(f(2,3))"
   ]
  },
  {
   "cell_type": "code",
   "execution_count": 52,
   "id": "4b4ffdcb",
   "metadata": {},
   "outputs": [],
   "source": [
    "def makeFunc(n):\n",
    "    return lambda a: a%n == 1"
   ]
  },
  {
   "cell_type": "code",
   "execution_count": 54,
   "id": "f6ad202b",
   "metadata": {},
   "outputs": [
    {
     "name": "stdout",
     "output_type": "stream",
     "text": [
      "True\n"
     ]
    }
   ],
   "source": [
    "is0dd = makeFunc(2)\n",
    "print(is0dd(3))"
   ]
  },
  {
   "cell_type": "code",
   "execution_count": 55,
   "id": "82266969",
   "metadata": {},
   "outputs": [
    {
     "name": "stdout",
     "output_type": "stream",
     "text": [
      "False\n"
     ]
    }
   ],
   "source": [
    "print(is0dd(4))"
   ]
  },
  {
   "cell_type": "code",
   "execution_count": 56,
   "id": "5fed0467",
   "metadata": {},
   "outputs": [],
   "source": [
    "def get_key(x):   # lambda를 쓰면 이런 함수를 쓰지 않아도 된다. \n",
    "    return x[0]"
   ]
  },
  {
   "cell_type": "code",
   "execution_count": 60,
   "id": "42be257a",
   "metadata": {},
   "outputs": [
    {
     "name": "stdout",
     "output_type": "stream",
     "text": [
      "OrderedDict([('a', 400), ('x', 100), ('y', 200), ('z', 300)])\n"
     ]
    }
   ],
   "source": [
    "od = OrderedDict(sorted(d.items(),key=get_key))\n",
    "print(od)"
   ]
  },
  {
   "cell_type": "code",
   "execution_count": null,
   "id": "c13d6465",
   "metadata": {},
   "outputs": [],
   "source": [
    "od = OrderedDict(sorted(d.items(),key=lambda x:x[0]))\n",
    "print(od)"
   ]
  },
  {
   "cell_type": "code",
   "execution_count": 62,
   "id": "025d38c4",
   "metadata": {},
   "outputs": [
    {
     "name": "stdout",
     "output_type": "stream",
     "text": [
      "OrderedDict([('x', 100), ('y', 200), ('z', 300), ('a', 400)])\n"
     ]
    }
   ],
   "source": [
    "od = OrderedDict(sorted(d.items(),key=lambda x:x[1]))\n",
    "print(od)"
   ]
  },
  {
   "cell_type": "code",
   "execution_count": 65,
   "id": "10446649",
   "metadata": {},
   "outputs": [],
   "source": [
    "s = [('yellow',1),('blue',2),('yellow',3),('blue',4),\\\n",
    "    ('red',1)]"
   ]
  },
  {
   "cell_type": "markdown",
   "id": "51266db4",
   "metadata": {},
   "source": [
    "{'yellow':[1,3], 'blue':[2,4], 'red[1]'}"
   ]
  },
  {
   "cell_type": "code",
   "execution_count": 70,
   "id": "32718812",
   "metadata": {},
   "outputs": [],
   "source": [
    "d = dict()\n",
    "for k,v in s :\n",
    "    try:\n",
    "        d[k].append(v)\n",
    "    except KeyError:\n",
    "        d[k] = list()\n",
    "        d[k].append(v) \n",
    "    \n",
    "# 오류가 나는 이유는 리스트가 없기 때문이다 "
   ]
  },
  {
   "cell_type": "code",
   "execution_count": 71,
   "id": "4377b758",
   "metadata": {},
   "outputs": [
    {
     "name": "stdout",
     "output_type": "stream",
     "text": [
      "{'yellow': [1, 3], 'blue': [2, 4], 'red': [1]}\n"
     ]
    }
   ],
   "source": [
    "print(d)"
   ]
  },
  {
   "cell_type": "code",
   "execution_count": 72,
   "id": "ad25d5c5",
   "metadata": {},
   "outputs": [],
   "source": [
    "from collections import defaultdict"
   ]
  },
  {
   "cell_type": "code",
   "execution_count": 73,
   "id": "0711599c",
   "metadata": {},
   "outputs": [
    {
     "name": "stdout",
     "output_type": "stream",
     "text": [
      "dict_items([('yellow', [1, 3]), ('blue', [2, 4]), ('red', [1])])\n"
     ]
    }
   ],
   "source": [
    "d2 = defaultdict(list)\n",
    "# 항목이 없을 때는 기본적으로 리스트를 생성해라\n",
    "\n",
    "for k,v in s :\n",
    "    d2[k].append(v)\n",
    "print(d2.items())"
   ]
  },
  {
   "cell_type": "code",
   "execution_count": 74,
   "id": "6b965e5b",
   "metadata": {},
   "outputs": [
    {
     "ename": "TypeError",
     "evalue": "first argument must be callable or None",
     "output_type": "error",
     "traceback": [
      "\u001b[0;31m---------------------------------------------------------------------------\u001b[0m",
      "\u001b[0;31mTypeError\u001b[0m                                 Traceback (most recent call last)",
      "\u001b[0;32m<ipython-input-74-437e58e5c43b>\u001b[0m in \u001b[0;36m<module>\u001b[0;34m\u001b[0m\n\u001b[0;32m----> 1\u001b[0;31m \u001b[0md3\u001b[0m \u001b[0;34m=\u001b[0m \u001b[0mdefaultdict\u001b[0m\u001b[0;34m(\u001b[0m\u001b[0;36m100\u001b[0m\u001b[0;34m)\u001b[0m\u001b[0;34m\u001b[0m\u001b[0;34m\u001b[0m\u001b[0m\n\u001b[0m\u001b[1;32m      2\u001b[0m \u001b[0mprint\u001b[0m\u001b[0;34m(\u001b[0m\u001b[0md3\u001b[0m\u001b[0;34m[\u001b[0m\u001b[0;34m'first'\u001b[0m\u001b[0;34m]\u001b[0m\u001b[0;34m)\u001b[0m\u001b[0;34m\u001b[0m\u001b[0;34m\u001b[0m\u001b[0m\n",
      "\u001b[0;31mTypeError\u001b[0m: first argument must be callable or None"
     ]
    }
   ],
   "source": [
    "d3 = defaultdict(100)\n",
    "print(d3['first'])"
   ]
  },
  {
   "cell_type": "code",
   "execution_count": 75,
   "id": "978b64ae",
   "metadata": {},
   "outputs": [
    {
     "name": "stdout",
     "output_type": "stream",
     "text": [
      "100\n"
     ]
    }
   ],
   "source": [
    "d3 = defaultdict(lambda : 100)\n",
    "print(d3['first'])"
   ]
  },
  {
   "cell_type": "code",
   "execution_count": 76,
   "id": "0b2bcdbb",
   "metadata": {},
   "outputs": [],
   "source": [
    "from collections import Counter"
   ]
  },
  {
   "cell_type": "code",
   "execution_count": 77,
   "id": "bebc29f0",
   "metadata": {},
   "outputs": [
    {
     "name": "stdout",
     "output_type": "stream",
     "text": [
      "Counter({'s': 2, 'i': 2, 't': 2, 'c': 1, 'e': 1, 'n': 1})\n"
     ]
    }
   ],
   "source": [
    "c = Counter('scientist')\n",
    "print(c)"
   ]
  },
  {
   "cell_type": "code",
   "execution_count": 82,
   "id": "b448427e",
   "metadata": {},
   "outputs": [
    {
     "name": "stdout",
     "output_type": "stream",
     "text": [
      "Counter({'red': 4, 'blue': 2})\n"
     ]
    }
   ],
   "source": [
    "c = Counter({'red':4, 'blue':2})\n",
    "print(c)"
   ]
  },
  {
   "cell_type": "code",
   "execution_count": 83,
   "id": "39f0bb88",
   "metadata": {},
   "outputs": [
    {
     "name": "stdout",
     "output_type": "stream",
     "text": [
      "['red', 'red', 'red', 'red', 'blue', 'blue']\n"
     ]
    }
   ],
   "source": [
    "#카운트 객체에 엘리멘트메서드를 적용\n",
    "c.elements()\n",
    "print(list(c.elements()))"
   ]
  },
  {
   "cell_type": "code",
   "execution_count": 84,
   "id": "e603ab29",
   "metadata": {},
   "outputs": [
    {
     "name": "stdout",
     "output_type": "stream",
     "text": [
      "Counter({'dogs': 6, 'cats': 4})\n"
     ]
    }
   ],
   "source": [
    "c = Counter(cats=4,dogs=6)\n",
    "print(c)"
   ]
  },
  {
   "cell_type": "code",
   "execution_count": 78,
   "id": "ffa78c31",
   "metadata": {},
   "outputs": [],
   "source": [
    "from collections import namedtuple"
   ]
  },
  {
   "cell_type": "code",
   "execution_count": 79,
   "id": "5b97c08d",
   "metadata": {},
   "outputs": [
    {
     "name": "stdout",
     "output_type": "stream",
     "text": [
      "my_point(x=11, y=22)\n"
     ]
    }
   ],
   "source": [
    "Point = namedtuple('my_point',['x','y'])\n",
    "p = Point(11,22)\n",
    "print(p)"
   ]
  },
  {
   "cell_type": "code",
   "execution_count": 80,
   "id": "0dbd7d88",
   "metadata": {},
   "outputs": [
    {
     "name": "stdout",
     "output_type": "stream",
     "text": [
      "11 22\n"
     ]
    }
   ],
   "source": [
    "print(p.x,p.y)"
   ]
  },
  {
   "cell_type": "code",
   "execution_count": 81,
   "id": "e7c7647b",
   "metadata": {},
   "outputs": [
    {
     "name": "stdout",
     "output_type": "stream",
     "text": [
      "11 22\n"
     ]
    }
   ],
   "source": [
    "print(p[0], p[1])"
   ]
  },
  {
   "cell_type": "code",
   "execution_count": 85,
   "id": "6e69c96e",
   "metadata": {},
   "outputs": [],
   "source": [
    "text = \"\"\"A press release is the quickest and easiest way to get free publicity. If\n",
    "well written, a press release can result in multiple published articles about your \n",
    "firm and its products. And that can mean new prospects contacting you \n",
    "asking you to sell to them. ….\"\"\".lower().split()"
   ]
  },
  {
   "cell_type": "code",
   "execution_count": 86,
   "id": "44450ca4",
   "metadata": {},
   "outputs": [
    {
     "name": "stdout",
     "output_type": "stream",
     "text": [
      "['a', 'press', 'release', 'is', 'the', 'quickest', 'and', 'easiest', 'way', 'to', 'get', 'free', 'publicity.', 'if', 'well', 'written,', 'a', 'press', 'release', 'can', 'result', 'in', 'multiple', 'published', 'articles', 'about', 'your', 'firm', 'and', 'its', 'products.', 'and', 'that', 'can', 'mean', 'new', 'prospects', 'contacting', 'you', 'asking', 'you', 'to', 'sell', 'to', 'them.', '….']\n"
     ]
    }
   ],
   "source": [
    "print(text)"
   ]
  },
  {
   "cell_type": "code",
   "execution_count": 88,
   "id": "81155853",
   "metadata": {},
   "outputs": [],
   "source": [
    "word_count = defaultdict(lambda:0)"
   ]
  },
  {
   "cell_type": "code",
   "execution_count": 89,
   "id": "b57c2815",
   "metadata": {},
   "outputs": [],
   "source": [
    "for word in text:\n",
    "    word_count[word] += 1 "
   ]
  },
  {
   "cell_type": "code",
   "execution_count": 90,
   "id": "30c0f5df",
   "metadata": {},
   "outputs": [
    {
     "name": "stdout",
     "output_type": "stream",
     "text": [
      "defaultdict(<function <lambda> at 0x7ff1a13c94c0>, {'a': 2, 'press': 2, 'release': 2, 'is': 1, 'the': 1, 'quickest': 1, 'and': 3, 'easiest': 1, 'way': 1, 'to': 3, 'get': 1, 'free': 1, 'publicity.': 1, 'if': 1, 'well': 1, 'written,': 1, 'can': 2, 'result': 1, 'in': 1, 'multiple': 1, 'published': 1, 'articles': 1, 'about': 1, 'your': 1, 'firm': 1, 'its': 1, 'products.': 1, 'that': 1, 'mean': 1, 'new': 1, 'prospects': 1, 'contacting': 1, 'you': 2, 'asking': 1, 'sell': 1, 'them.': 1, '….': 1})\n"
     ]
    }
   ],
   "source": [
    "print(word_count)"
   ]
  },
  {
   "cell_type": "markdown",
   "id": "36746d3a",
   "metadata": {},
   "source": [
    "and 3\n",
    "to 2\n",
    "a 2\n",
    "press 2"
   ]
  },
  {
   "cell_type": "code",
   "execution_count": 101,
   "id": "e8a82e16",
   "metadata": {},
   "outputs": [
    {
     "name": "stdout",
     "output_type": "stream",
     "text": [
      "and 3\n",
      "to 3\n",
      "a 2\n",
      "press 2\n",
      "release 2\n",
      "can 2\n",
      "you 2\n",
      "is 1\n",
      "the 1\n",
      "quickest 1\n",
      "easiest 1\n",
      "way 1\n",
      "get 1\n",
      "free 1\n",
      "publicity. 1\n",
      "if 1\n",
      "well 1\n",
      "written, 1\n",
      "result 1\n",
      "in 1\n",
      "multiple 1\n",
      "published 1\n",
      "articles 1\n",
      "about 1\n",
      "your 1\n",
      "firm 1\n",
      "its 1\n",
      "products. 1\n",
      "that 1\n",
      "mean 1\n",
      "new 1\n",
      "prospects 1\n",
      "contacting 1\n",
      "asking 1\n",
      "sell 1\n",
      "them. 1\n",
      "…. 1\n"
     ]
    }
   ],
   "source": [
    "for k, v in OrderedDict(sorted(word_count.items(), \\\n",
    "                                key=lambda t: t[1], \\\n",
    "                                reverse=True)).items():\n",
    "    print(k,v)"
   ]
  },
  {
   "cell_type": "code",
   "execution_count": null,
   "id": "4585c401",
   "metadata": {},
   "outputs": [],
   "source": [
    "result2 = [i if i %2 == 0 ]"
   ]
  },
  {
   "cell_type": "code",
   "execution_count": null,
   "id": "7f0d7e0d",
   "metadata": {},
   "outputs": [],
   "source": [
    "result = []\n",
    "word1 ='Hello'\n",
    "word2 = 'Word'\n",
    "for i in word:\n",
    "    for j in word2:\n",
    "        result.append(i + j)\n",
    "        \n",
    "print(result)"
   ]
  },
  {
   "cell_type": "code",
   "execution_count": 102,
   "id": "f458f4ce",
   "metadata": {},
   "outputs": [
    {
     "ename": "NameError",
     "evalue": "name 'word1' is not defined",
     "output_type": "error",
     "traceback": [
      "\u001b[0;31m---------------------------------------------------------------------------\u001b[0m",
      "\u001b[0;31mNameError\u001b[0m                                 Traceback (most recent call last)",
      "\u001b[0;32m<ipython-input-102-0623ef986dc5>\u001b[0m in \u001b[0;36m<module>\u001b[0;34m\u001b[0m\n\u001b[0;32m----> 1\u001b[0;31m \u001b[0mresult2\u001b[0m \u001b[0;34m=\u001b[0m \u001b[0;34m[\u001b[0m\u001b[0mi\u001b[0m \u001b[0;34m+\u001b[0m\u001b[0mj\u001b[0m \u001b[0;32mfor\u001b[0m \u001b[0mi\u001b[0m \u001b[0;32min\u001b[0m \u001b[0mword1\u001b[0m \u001b[0;32mfor\u001b[0m \u001b[0mj\u001b[0m \u001b[0;32min\u001b[0m \u001b[0mword2\u001b[0m\u001b[0;34m]\u001b[0m\u001b[0;34m\u001b[0m\u001b[0;34m\u001b[0m\u001b[0m\n\u001b[0m\u001b[1;32m      2\u001b[0m \u001b[0mprint\u001b[0m\u001b[0;34m(\u001b[0m\u001b[0mresult2\u001b[0m\u001b[0;34m)\u001b[0m\u001b[0;34m\u001b[0m\u001b[0;34m\u001b[0m\u001b[0m\n",
      "\u001b[0;31mNameError\u001b[0m: name 'word1' is not defined"
     ]
    }
   ],
   "source": [
    "result2 = [i +j for i in word1 for j in word2]\n",
    "print(result2)"
   ]
  },
  {
   "cell_type": "code",
   "execution_count": 104,
   "id": "af24c139",
   "metadata": {},
   "outputs": [
    {
     "ename": "SyntaxError",
     "evalue": "invalid syntax (<ipython-input-104-03c6c8ca97f5>, line 4)",
     "output_type": "error",
     "traceback": [
      "\u001b[0;36m  File \u001b[0;32m\"<ipython-input-104-03c6c8ca97f5>\"\u001b[0;36m, line \u001b[0;32m4\u001b[0m\n\u001b[0;31m    result = [i+j for i in case1 for in case2 if i != j]\u001b[0m\n\u001b[0m                                     ^\u001b[0m\n\u001b[0;31mSyntaxError\u001b[0m\u001b[0;31m:\u001b[0m invalid syntax\n"
     ]
    }
   ],
   "source": [
    "# 조건 : case1의 글자 case2의 글자가 같지 않은 경우만 리스트에 등록\n",
    "case1 = ['A','B','C']\n",
    "case2 = ['A', 'B', 'C']\n",
    "result = [i+j for i in case1 for in case2 if i != j]\n",
    "print(result)"
   ]
  },
  {
   "cell_type": "code",
   "execution_count": 110,
   "id": "c249e1c4",
   "metadata": {},
   "outputs": [],
   "source": [
    "case1 = ['A','B','C']\n",
    "case2 = ['D','E','F']"
   ]
  },
  {
   "cell_type": "markdown",
   "id": "1b22ba74",
   "metadata": {},
   "source": [
    "[['AD', 'BD','CD'],['AE','BE','CE'],['AF','BF','CF;]]"
   ]
  },
  {
   "cell_type": "code",
   "execution_count": 111,
   "id": "cbe9777d",
   "metadata": {},
   "outputs": [
    {
     "name": "stdout",
     "output_type": "stream",
     "text": [
      "[['AD', 'BD', 'CD'], ['AE', 'BE', 'CE'], ['AF', 'BF', 'CF']]\n"
     ]
    }
   ],
   "source": [
    "result = [[i + j for i in case1] for j in case2]\n",
    "print(result)"
   ]
  },
  {
   "cell_type": "code",
   "execution_count": 112,
   "id": "672a4657",
   "metadata": {},
   "outputs": [
    {
     "name": "stdout",
     "output_type": "stream",
     "text": [
      "[['AD', 'BD', 'CD'], ['AE', 'BE', 'CE'], ['AF', 'BF', 'CF']]\n"
     ]
    }
   ],
   "source": [
    "result2 = []\n",
    "for j in case2:\n",
    "    temp = []\n",
    "    for i in case1:\n",
    "        temp.append(i+j)\n",
    "    result2.append(temp)\n",
    "    \n",
    "print(result2)"
   ]
  },
  {
   "cell_type": "code",
   "execution_count": 114,
   "id": "7a5affb5",
   "metadata": {},
   "outputs": [
    {
     "name": "stdout",
     "output_type": "stream",
     "text": [
      "0 tic\n",
      "1 tac\n",
      "2 toe\n"
     ]
    }
   ],
   "source": [
    "for i , v in enumerate(['tic', 'tac','toe']):\n",
    "    print(i,v)\n",
    "\n",
    "# enumerate 을 사용하면, 인덱스와 인자를 함께 뽑을 수 있다. "
   ]
  },
  {
   "cell_type": "code",
   "execution_count": 116,
   "id": "144b55fa",
   "metadata": {},
   "outputs": [
    {
     "name": "stdout",
     "output_type": "stream",
     "text": [
      "0\n",
      "1\n",
      "2\n"
     ]
    }
   ],
   "source": [
    "# 인덱스만 뽑아내고 싶을 때\n",
    "for i in range(len(['tic','tac','toe'])):\n",
    "    print(i)"
   ]
  },
  {
   "cell_type": "code",
   "execution_count": null,
   "id": "ae59bd64",
   "metadata": {},
   "outputs": [],
   "source": []
  },
  {
   "cell_type": "code",
   "execution_count": 117,
   "id": "0a3213bc",
   "metadata": {},
   "outputs": [
    {
     "name": "stdout",
     "output_type": "stream",
     "text": [
      "(1, 10, 100) (2, 20, 200) (3, 30, 300)\n"
     ]
    }
   ],
   "source": [
    "a,b,c = zip((1,2,3),(10,20,30),(100,200,300))\n",
    "print(a,b,c)\n"
   ]
  },
  {
   "cell_type": "code",
   "execution_count": 120,
   "id": "b1cc06da",
   "metadata": {},
   "outputs": [
    {
     "name": "stdout",
     "output_type": "stream",
     "text": [
      "(1, 10, 100) (2, 20, 200) (3, 30, 300)\n"
     ]
    }
   ],
   "source": [
    "a,b,c, =zip([1,2,3],[10,20,30],[100,200,300])\n",
    "print(a,b,c)"
   ]
  },
  {
   "cell_type": "code",
   "execution_count": 124,
   "id": "960c9440",
   "metadata": {},
   "outputs": [
    {
     "name": "stdout",
     "output_type": "stream",
     "text": [
      "[111, 222, 333]\n"
     ]
    }
   ],
   "source": [
    "result=[sum(x) for x in zip((1,2,3),(10,20,30),(100,200,300))]\n",
    "print(result)"
   ]
  },
  {
   "cell_type": "code",
   "execution_count": 125,
   "id": "fc7951fe",
   "metadata": {},
   "outputs": [
    {
     "ename": "ValueError",
     "evalue": "not enough values to unpack (expected 3, got 2)",
     "output_type": "error",
     "traceback": [
      "\u001b[0;31m---------------------------------------------------------------------------\u001b[0m",
      "\u001b[0;31mValueError\u001b[0m                                Traceback (most recent call last)",
      "\u001b[0;32m<ipython-input-125-e1a5ee8f5c40>\u001b[0m in \u001b[0;36m<module>\u001b[0;34m\u001b[0m\n\u001b[1;32m      1\u001b[0m \u001b[0malist\u001b[0m \u001b[0;34m=\u001b[0m \u001b[0;34m[\u001b[0m\u001b[0;34m'a1'\u001b[0m\u001b[0;34m,\u001b[0m\u001b[0;34m'a2'\u001b[0m\u001b[0;34m,\u001b[0m\u001b[0;34m'a3'\u001b[0m\u001b[0;34m]\u001b[0m\u001b[0;34m\u001b[0m\u001b[0;34m\u001b[0m\u001b[0m\n\u001b[1;32m      2\u001b[0m \u001b[0mblist\u001b[0m \u001b[0;34m=\u001b[0m \u001b[0;34m[\u001b[0m\u001b[0;34m'b1'\u001b[0m\u001b[0;34m,\u001b[0m\u001b[0;34m'b2'\u001b[0m\u001b[0;34m,\u001b[0m\u001b[0;34m'b3'\u001b[0m\u001b[0;34m,\u001b[0m\u001b[0;34m'b4'\u001b[0m\u001b[0;34m]\u001b[0m\u001b[0;34m\u001b[0m\u001b[0;34m\u001b[0m\u001b[0m\n\u001b[0;32m----> 3\u001b[0;31m \u001b[0;32mfor\u001b[0m \u001b[0mi\u001b[0m\u001b[0;34m,\u001b[0m \u001b[0ma\u001b[0m\u001b[0;34m,\u001b[0m \u001b[0mb\u001b[0m \u001b[0;32min\u001b[0m \u001b[0menumerate\u001b[0m\u001b[0;34m(\u001b[0m\u001b[0mzip\u001b[0m\u001b[0;34m(\u001b[0m\u001b[0malist\u001b[0m\u001b[0;34m,\u001b[0m \u001b[0mblist\u001b[0m\u001b[0;34m)\u001b[0m\u001b[0;34m)\u001b[0m\u001b[0;34m:\u001b[0m\u001b[0;34m\u001b[0m\u001b[0;34m\u001b[0m\u001b[0m\n\u001b[0m\u001b[1;32m      4\u001b[0m     \u001b[0mprint\u001b[0m\u001b[0;34m(\u001b[0m\u001b[0mi\u001b[0m\u001b[0;34m,\u001b[0m\u001b[0ma\u001b[0m\u001b[0;34m,\u001b[0m\u001b[0mb\u001b[0m\u001b[0;34m)\u001b[0m\u001b[0;34m\u001b[0m\u001b[0;34m\u001b[0m\u001b[0m\n",
      "\u001b[0;31mValueError\u001b[0m: not enough values to unpack (expected 3, got 2)"
     ]
    }
   ],
   "source": [
    "alist = ['a1','a2','a3']\n",
    "blist = ['b1','b2','b3','b4']\n",
    "for i, a, b in enumerate(zip(alist, blist)):\n",
    "    print(i,a,b)\n",
    "\n",
    "# 3개가 나와야 하는데 실제로 2개가 나와서 오류가 난 것 "
   ]
  },
  {
   "cell_type": "code",
   "execution_count": 126,
   "id": "ba58afe7",
   "metadata": {},
   "outputs": [
    {
     "name": "stdout",
     "output_type": "stream",
     "text": [
      "0 a1 b1\n",
      "1 a2 b2\n",
      "2 a3 b3\n"
     ]
    }
   ],
   "source": [
    "alist = ['a1','a2','a3']\n",
    "blist = ['b1','b2','b3','b4']\n",
    "for i, (a, b) in enumerate(zip(alist, blist)):\n",
    "    print(i,a,b)"
   ]
  },
  {
   "cell_type": "markdown",
   "id": "3b92fabe",
   "metadata": {},
   "source": [
    "- 벡터의 정의\n",
    "a = [a1,a2], b= [b1, b2]\n",
    "a + b = [a1 + b1, a2 + b2 ]"
   ]
  },
  {
   "cell_type": "code",
   "execution_count": 131,
   "id": "58084fbe",
   "metadata": {},
   "outputs": [],
   "source": [
    "def vec_add(v1,v2):\n",
    "    return [i+ j for i,j in zip(v1,v2)]"
   ]
  },
  {
   "cell_type": "code",
   "execution_count": 132,
   "id": "f61fa5a8",
   "metadata": {},
   "outputs": [
    {
     "name": "stdout",
     "output_type": "stream",
     "text": [
      "[5, 7, 9]\n"
     ]
    }
   ],
   "source": [
    "a = [1,2,3]\n",
    "b = [4,5,6]\n",
    "result = vec_add(a,b)\n",
    "print(result)"
   ]
  },
  {
   "cell_type": "code",
   "execution_count": 134,
   "id": "4e6798c1",
   "metadata": {},
   "outputs": [
    {
     "ename": "SyntaxError",
     "evalue": "cannot assign to operator (<ipython-input-134-30640ec8496d>, line 2)",
     "output_type": "error",
     "traceback": [
      "\u001b[0;36m  File \u001b[0;32m\"<ipython-input-134-30640ec8496d>\"\u001b[0;36m, line \u001b[0;32m2\u001b[0m\n\u001b[0;31m    a * c = [a1 * n, a2*n]\u001b[0m\n\u001b[0m    ^\u001b[0m\n\u001b[0;31mSyntaxError\u001b[0m\u001b[0;31m:\u001b[0m cannot assign to operator\n"
     ]
    }
   ],
   "source": [
    "a = [a1, a2], c = n\n",
    "a * c = [a1 * n, a2*n]"
   ]
  },
  {
   "cell_type": "code",
   "execution_count": 145,
   "id": "60b79482",
   "metadata": {},
   "outputs": [],
   "source": [
    "def scalar_mul(v,c):\n",
    "    return [ c * i for i in v]"
   ]
  },
  {
   "cell_type": "code",
   "execution_count": 148,
   "id": "2f73c05a",
   "metadata": {},
   "outputs": [
    {
     "name": "stdout",
     "output_type": "stream",
     "text": [
      "[5, 7, 9]\n"
     ]
    }
   ],
   "source": [
    "a = [1,2,3]\n",
    "num = 3\n",
    "reuslt = scalar_mul(a, num)\n",
    "print(result)"
   ]
  },
  {
   "cell_type": "code",
   "execution_count": 150,
   "id": "a515f30d",
   "metadata": {},
   "outputs": [],
   "source": [
    "import random"
   ]
  },
  {
   "cell_type": "code",
   "execution_count": 153,
   "id": "fd3b57cb",
   "metadata": {},
   "outputs": [
    {
     "name": "stdout",
     "output_type": "stream",
     "text": [
      "0.8635868336414328\n"
     ]
    }
   ],
   "source": [
    "print(random.random())"
   ]
  },
  {
   "cell_type": "code",
   "execution_count": 156,
   "id": "02ef68bd",
   "metadata": {},
   "outputs": [
    {
     "name": "stdout",
     "output_type": "stream",
     "text": [
      "[0.8297536039068463, 0.722397108285282, 0.3466624131092213, 0.24338256721807028, 0.2501635745549021]\n"
     ]
    }
   ],
   "source": [
    "randoms= [ random.random() for _ in range(5)]\n",
    "print(randoms)"
   ]
  },
  {
   "cell_type": "code",
   "execution_count": 157,
   "id": "07090d1a",
   "metadata": {},
   "outputs": [
    {
     "name": "stdout",
     "output_type": "stream",
     "text": [
      "[6, 8, 2, 1, 4]\n"
     ]
    }
   ],
   "source": [
    "result = [random.randint(0,9) for _ in range(5)]\n",
    "print(result)"
   ]
  },
  {
   "cell_type": "code",
   "execution_count": 166,
   "id": "ac8fc49f",
   "metadata": {},
   "outputs": [],
   "source": [
    "import random\n",
    "random.seed(5)"
   ]
  },
  {
   "cell_type": "code",
   "execution_count": 167,
   "id": "9617b2d8",
   "metadata": {},
   "outputs": [
    {
     "name": "stdout",
     "output_type": "stream",
     "text": [
      "[9, 4, 5, 8, 0]\n"
     ]
    }
   ],
   "source": [
    "result = [random.randint(0,9) for _ in range(5)]\n",
    "print(result)"
   ]
  },
  {
   "cell_type": "code",
   "execution_count": 168,
   "id": "04937c57",
   "metadata": {},
   "outputs": [
    {
     "name": "stdout",
     "output_type": "stream",
     "text": [
      "4\n"
     ]
    }
   ],
   "source": [
    "print(random.randrange(3,6))"
   ]
  },
  {
   "cell_type": "code",
   "execution_count": 170,
   "id": "cee1614a",
   "metadata": {},
   "outputs": [
    {
     "name": "stdout",
     "output_type": "stream",
     "text": [
      "2\n"
     ]
    }
   ],
   "source": [
    "print(random.randrange(1,7))"
   ]
  },
  {
   "cell_type": "code",
   "execution_count": 173,
   "id": "1f3b5d52",
   "metadata": {},
   "outputs": [
    {
     "name": "stdout",
     "output_type": "stream",
     "text": [
      "[1, 3, 2]\n"
     ]
    }
   ],
   "source": [
    "random.shuffle(a)\n",
    "print(a)"
   ]
  },
  {
   "cell_type": "raw",
   "id": "d76baf95",
   "metadata": {},
   "source": [
    "today_menu = random.choice(['김밥','돈가스','파스타'])\n",
    "print(today_menu)"
   ]
  },
  {
   "cell_type": "code",
   "execution_count": 175,
   "id": "b2e9415d",
   "metadata": {
    "scrolled": true
   },
   "outputs": [
    {
     "ename": "NameError",
     "evalue": "name 'lotto_number' is not defined",
     "output_type": "error",
     "traceback": [
      "\u001b[0;31m---------------------------------------------------------------------------\u001b[0m",
      "\u001b[0;31mNameError\u001b[0m                                 Traceback (most recent call last)",
      "\u001b[0;32m<ipython-input-175-6bd67c5fff56>\u001b[0m in \u001b[0;36m<module>\u001b[0;34m\u001b[0m\n\u001b[1;32m      1\u001b[0m \u001b[0mlotto_numbers\u001b[0m \u001b[0;34m=\u001b[0m \u001b[0mrange\u001b[0m\u001b[0;34m(\u001b[0m\u001b[0;36m1\u001b[0m\u001b[0;34m,\u001b[0m\u001b[0;36m46\u001b[0m\u001b[0;34m)\u001b[0m\u001b[0;34m\u001b[0m\u001b[0;34m\u001b[0m\u001b[0m\n\u001b[0;32m----> 2\u001b[0;31m \u001b[0mwinning_number\u001b[0m \u001b[0;34m=\u001b[0m \u001b[0mrandom\u001b[0m\u001b[0;34m.\u001b[0m\u001b[0msample\u001b[0m\u001b[0;34m(\u001b[0m\u001b[0mlotto_number\u001b[0m\u001b[0;34m,\u001b[0m \u001b[0;36m6\u001b[0m\u001b[0;34m)\u001b[0m\u001b[0;34m\u001b[0m\u001b[0;34m\u001b[0m\u001b[0m\n\u001b[0m\u001b[1;32m      3\u001b[0m \u001b[0mprint\u001b[0m\u001b[0;34m(\u001b[0m\u001b[0mwinning_number\u001b[0m\u001b[0;34m)\u001b[0m\u001b[0;34m\u001b[0m\u001b[0;34m\u001b[0m\u001b[0m\n",
      "\u001b[0;31mNameError\u001b[0m: name 'lotto_number' is not defined"
     ]
    }
   ],
   "source": [
    "lotto_numbers = range(1,46)\n",
    "winning_number = random.sample(lotto_number, 6)\n",
    "print(winning_number)"
   ]
  },
  {
   "cell_type": "code",
   "execution_count": 176,
   "id": "adfebbcb",
   "metadata": {},
   "outputs": [
    {
     "name": "stdout",
     "output_type": "stream",
     "text": [
      "[1, 4, 9, 16, 25]\n"
     ]
    }
   ],
   "source": [
    "ex = [1,2,3,4,5]\n",
    "f =lambda x : x**2\n",
    "print(list(map(f,ex)))"
   ]
  },
  {
   "cell_type": "code",
   "execution_count": 177,
   "id": "62c65832",
   "metadata": {},
   "outputs": [
    {
     "name": "stdout",
     "output_type": "stream",
     "text": [
      "[1, 4, 9, 16, 25]\n"
     ]
    }
   ],
   "source": [
    "print([x**2 for x in ex])"
   ]
  },
  {
   "cell_type": "code",
   "execution_count": 178,
   "id": "fcb0bf29",
   "metadata": {},
   "outputs": [
    {
     "name": "stdout",
     "output_type": "stream",
     "text": [
      "[11, 22, 33, 44, 55]\n"
     ]
    }
   ],
   "source": [
    "a = [1,2,3,4,5]\n",
    "b = [10,20,30,40,50]\n",
    "f = lambda x,y: x+y\n",
    "print(list(map(f,a,b)))"
   ]
  },
  {
   "cell_type": "code",
   "execution_count": 180,
   "id": "8ee2f3af",
   "metadata": {},
   "outputs": [
    {
     "name": "stdout",
     "output_type": "stream",
     "text": [
      "[11, 22, 33, 44, 55]\n"
     ]
    }
   ],
   "source": [
    "print([x + y for x,y in zip(a,b)])"
   ]
  },
  {
   "cell_type": "code",
   "execution_count": 187,
   "id": "d25c99bf",
   "metadata": {},
   "outputs": [
    {
     "ename": "SyntaxError",
     "evalue": "invalid syntax (<ipython-input-187-4e25afe81030>, line 2)",
     "output_type": "error",
     "traceback": [
      "\u001b[0;36m  File \u001b[0;32m\"<ipython-input-187-4e25afe81030>\"\u001b[0;36m, line \u001b[0;32m2\u001b[0m\n\u001b[0;31m    print(list(map(lambda x:x**2 if x %2 == 0 delse x, a)))\u001b[0m\n\u001b[0m                                              ^\u001b[0m\n\u001b[0;31mSyntaxError\u001b[0m\u001b[0;31m:\u001b[0m invalid syntax\n"
     ]
    }
   ],
   "source": [
    "a = [1,2,3,4,5]\n",
    "print(list(map(lambda x:x**2 if x %2 == 0 delse x, a)))"
   ]
  },
  {
   "cell_type": "code",
   "execution_count": 188,
   "id": "bbe4006a",
   "metadata": {},
   "outputs": [
    {
     "name": "stdout",
     "output_type": "stream",
     "text": [
      "[1, 4, 3, 16, 5]\n"
     ]
    }
   ],
   "source": [
    "print([x**2 if x % 2 == 0 else x for x in a])"
   ]
  },
  {
   "cell_type": "code",
   "execution_count": 191,
   "id": "9363a58b",
   "metadata": {},
   "outputs": [
    {
     "name": "stdout",
     "output_type": "stream",
     "text": [
      "['SMALL', 'SMALL', 'SMALL', 'SMALL', 'MIDDLE', 'BIG', 'BIG', 'BIG', 'BIG', 'BIG']\n"
     ]
    }
   ],
   "source": [
    "a = [1,2,3,4,5,6,7,8,9,10]\n",
    "# 5보다 크면 'BIG', 5보다 작으면 'SMALL', 이도 저도 아니면 'MIDDLE'\n",
    "result = list(map(lambda x: 'BIG' if x > 5 else 'SMALL'\\\n",
    "                 if x<5 else 'MIDDLE', a))\n",
    "print(result)"
   ]
  },
  {
   "cell_type": "code",
   "execution_count": 193,
   "id": "14eaeccb",
   "metadata": {},
   "outputs": [
    {
     "name": "stdout",
     "output_type": "stream",
     "text": [
      "['SMALL', 'SMALL', 'SMALL', 'SMALL', 'MIDDLE', 'BIG', 'BIG', 'BIG', 'BIG', 'BIG']\n"
     ]
    }
   ],
   "source": [
    "print(['BIG' if x > 5 else 'SMALL' if x < 5 else 'MIDDLE'\\\n",
    "      for x in a])"
   ]
  },
  {
   "cell_type": "code",
   "execution_count": 194,
   "id": "46cdf357",
   "metadata": {},
   "outputs": [],
   "source": [
    "def f1(a, *args):\n",
    "    print(a, args)\n",
    "    print(type(args))"
   ]
  },
  {
   "cell_type": "code",
   "execution_count": 196,
   "id": "1928a8cb",
   "metadata": {},
   "outputs": [
    {
     "name": "stdout",
     "output_type": "stream",
     "text": [
      "1 (2, 3, 4, 5)\n",
      "<class 'tuple'>\n"
     ]
    }
   ],
   "source": [
    "f1(1,2,3,4,5)"
   ]
  },
  {
   "cell_type": "code",
   "execution_count": 197,
   "id": "9abbfdbe",
   "metadata": {},
   "outputs": [],
   "source": [
    "def f2(a, **kargs):\n",
    "    print(a, kargs)\n",
    "    print(type(kargs))"
   ]
  },
  {
   "cell_type": "code",
   "execution_count": 198,
   "id": "849f41ab",
   "metadata": {},
   "outputs": [
    {
     "ename": "TypeError",
     "evalue": "f2() takes 1 positional argument but 2 were given",
     "output_type": "error",
     "traceback": [
      "\u001b[0;31m---------------------------------------------------------------------------\u001b[0m",
      "\u001b[0;31mTypeError\u001b[0m                                 Traceback (most recent call last)",
      "\u001b[0;32m<ipython-input-198-cbc440ab12d0>\u001b[0m in \u001b[0;36m<module>\u001b[0;34m\u001b[0m\n\u001b[0;32m----> 1\u001b[0;31m \u001b[0mf2\u001b[0m\u001b[0;34m(\u001b[0m\u001b[0;36m1\u001b[0m\u001b[0;34m,\u001b[0m \u001b[0;34m{\u001b[0m\u001b[0;34m'b'\u001b[0m\u001b[0;34m:\u001b[0m\u001b[0;36m2\u001b[0m\u001b[0;34m,\u001b[0m \u001b[0;34m'c'\u001b[0m\u001b[0;34m:\u001b[0m\u001b[0;36m3\u001b[0m\u001b[0;34m,\u001b[0m \u001b[0;34m'd'\u001b[0m\u001b[0;34m:\u001b[0m\u001b[0;36m4\u001b[0m\u001b[0;34m,\u001b[0m \u001b[0;34m'e'\u001b[0m\u001b[0;34m:\u001b[0m\u001b[0;36m5\u001b[0m\u001b[0;34m}\u001b[0m\u001b[0;34m)\u001b[0m\u001b[0;34m\u001b[0m\u001b[0;34m\u001b[0m\u001b[0m\n\u001b[0m",
      "\u001b[0;31mTypeError\u001b[0m: f2() takes 1 positional argument but 2 were given"
     ]
    }
   ],
   "source": [
    "f2(1, {'b':2, 'c':3, 'd':4, 'e':5})"
   ]
  },
  {
   "cell_type": "code",
   "execution_count": 201,
   "id": "b61c1210",
   "metadata": {},
   "outputs": [],
   "source": [
    "def unpacking_f1(a, args):\n",
    "    print(a, *args)\n",
    "    print(type(args))\n",
    "    \n",
    "# *가 unpacking의 의미다. \n",
    "# *를 붙이는 순간 언패킹을 한다. 그 전에는 언팩킹 하지 않는다."
   ]
  },
  {
   "cell_type": "code",
   "execution_count": 202,
   "id": "49e97fe6",
   "metadata": {},
   "outputs": [
    {
     "name": "stdout",
     "output_type": "stream",
     "text": [
      "1 2 3 4 5 6\n",
      "<class 'tuple'>\n"
     ]
    }
   ],
   "source": [
    "unpacking_f1(1,(2,3,4,5,6))"
   ]
  },
  {
   "cell_type": "code",
   "execution_count": 203,
   "id": "a33896aa",
   "metadata": {},
   "outputs": [],
   "source": [
    "def unpacking_f2(a, *args):\n",
    "    print(a, args)\n",
    "    print(type(args))"
   ]
  },
  {
   "cell_type": "code",
   "execution_count": 204,
   "id": "db44d4ed",
   "metadata": {},
   "outputs": [
    {
     "name": "stdout",
     "output_type": "stream",
     "text": [
      "1 (2, 3, 4, 5, 6)\n",
      "<class 'tuple'>\n"
     ]
    }
   ],
   "source": [
    "unpacking_f2(1, *(2,3,4,5,6))"
   ]
  },
  {
   "cell_type": "code",
   "execution_count": 207,
   "id": "3538e790",
   "metadata": {},
   "outputs": [],
   "source": [
    "def un_dict(a,b,c,d):\n",
    "    print(a,b,c,d,)"
   ]
  },
  {
   "cell_type": "code",
   "execution_count": 208,
   "id": "78d5b595",
   "metadata": {},
   "outputs": [
    {
     "name": "stdout",
     "output_type": "stream",
     "text": [
      "100 1 2 3\n"
     ]
    }
   ],
   "source": [
    "data = {'b':1, 'c':2, 'd':3}\n",
    "un_dict(100, **data)"
   ]
  },
  {
   "cell_type": "code",
   "execution_count": 206,
   "id": "c8631967",
   "metadata": {},
   "outputs": [
    {
     "name": "stdout",
     "output_type": "stream",
     "text": [
      "90.0 93.33333333333333 93.33333333333333\n"
     ]
    }
   ],
   "source": [
    "tom_score = [95, 85, 90]\n",
    "jane_score = [90,90,100]\n",
    "kate_score = [100,100,80]\n",
    "students_scores = [tom_score, jane_score, kate_score]\n",
    "tom_total = 0\n",
    "jane_total = 0\n",
    "kate_total = 0\n",
    "for tom, jane, kate in zip (*students_scores):\n",
    "    tom_total += tom\n",
    "    jane_total += jane\n",
    "    kate_total += kate\n",
    "    \n",
    "print(tom_total/3, jane_total/3, kate_total/3)"
   ]
  },
  {
   "cell_type": "code",
   "execution_count": 213,
   "id": "15153d20",
   "metadata": {},
   "outputs": [
    {
     "name": "stdout",
     "output_type": "stream",
     "text": [
      "[0, 9]\n"
     ]
    }
   ],
   "source": [
    "u = [2,2]\n",
    "v = [1,2]\n",
    "z = [-3, 5]\n",
    "result = [sum(t) for t in zip(u,v,z)]\n",
    "print(result)"
   ]
  },
  {
   "cell_type": "code",
   "execution_count": 214,
   "id": "5761ceca",
   "metadata": {},
   "outputs": [],
   "source": [
    "def vec_add(*args):\n",
    "    # 이 별은 팩킹하라는 뜻\n",
    "    return [sum(t) for t in zip(*args)]\n",
    "    # 이 별은 뭔진 몰라도 언팩킹 하라는 뜻"
   ]
  },
  {
   "cell_type": "code",
   "execution_count": 215,
   "id": "9b31f28d",
   "metadata": {},
   "outputs": [
    {
     "name": "stdout",
     "output_type": "stream",
     "text": [
      "[0, 9]\n"
     ]
    }
   ],
   "source": [
    "print(vec_add(u,v,z))"
   ]
  },
  {
   "cell_type": "code",
   "execution_count": 216,
   "id": "9bd9493c",
   "metadata": {},
   "outputs": [
    {
     "name": "stdout",
     "output_type": "stream",
     "text": [
      "[0, 9]\n"
     ]
    }
   ],
   "source": [
    "vectors = [[2,2,],[1,2], [-3,5]]\n",
    "print(vec_add(*vectors))"
   ]
  },
  {
   "cell_type": "code",
   "execution_count": 222,
   "id": "38b0ebab",
   "metadata": {},
   "outputs": [
    {
     "name": "stdout",
     "output_type": "stream",
     "text": [
      "[[8, 14], [10, 12]]\n"
     ]
    }
   ],
   "source": [
    "matrix_a = [[3,6],[4,5]]\n",
    "matrix_b = [[5,8],[6,7]]\n",
    "result = [[sum(row) for row in zip(*t)]\\\n",
    "         for t in zip(matrix_a, matrix_b)]\n",
    "print(result)"
   ]
  },
  {
   "cell_type": "code",
   "execution_count": 219,
   "id": "78f83994",
   "metadata": {},
   "outputs": [
    {
     "name": "stdout",
     "output_type": "stream",
     "text": [
      "([3, 6], [5, 8])\n",
      "([4, 5], [6, 7])\n"
     ]
    }
   ],
   "source": [
    "for t in zip(matrix_a, matrix_b):\n",
    "    print(t)"
   ]
  },
  {
   "cell_type": "code",
   "execution_count": 220,
   "id": "8fec630a",
   "metadata": {},
   "outputs": [
    {
     "name": "stdout",
     "output_type": "stream",
     "text": [
      "[3, 6] [5, 8]\n",
      "[4, 5] [6, 7]\n"
     ]
    }
   ],
   "source": [
    "for t in zip(matrix_a, matrix_b):\n",
    "    print(*t)"
   ]
  },
  {
   "cell_type": "code",
   "execution_count": 225,
   "id": "ec3e6156",
   "metadata": {},
   "outputs": [
    {
     "name": "stdout",
     "output_type": "stream",
     "text": [
      "[3, 6] [5, 8]\n",
      "[4, 5] [6, 7]\n"
     ]
    }
   ],
   "source": [
    "for t in zip(matrix_a, matrix_b):\n",
    "    a,b = zip(*t)\n",
    "    print(*t)"
   ]
  },
  {
   "cell_type": "code",
   "execution_count": 227,
   "id": "88afe543",
   "metadata": {},
   "outputs": [
    {
     "name": "stdout",
     "output_type": "stream",
     "text": [
      "[[1, 4], [2, 5], [3, 6]]\n"
     ]
    }
   ],
   "source": [
    "matrix_a = [[1,2,3], [4,5,6]]\n",
    "result = [[element for element in t] for t in zip (*matrix_a)]\n",
    "print(result)"
   ]
  },
  {
   "cell_type": "code",
   "execution_count": 229,
   "id": "72b49d06",
   "metadata": {},
   "outputs": [
    {
     "name": "stdout",
     "output_type": "stream",
     "text": [
      "[[5, 8], [5, 6]]\n"
     ]
    }
   ],
   "source": [
    "matrix_a = [[1,1,2], [2,1,1]]\n",
    "matrix_b = [[1,1],[2,1],[1,3]]\n",
    "result = [[sum(a*b for a,b in zip(row_a, column_b))\\\n",
    "          for column_b in zip(*matrix_b)] for row_a in matrix_a]\n",
    "print(result)"
   ]
  },
  {
   "cell_type": "code",
   "execution_count": null,
   "id": "49dacb0d",
   "metadata": {},
   "outputs": [],
   "source": []
  }
 ],
 "metadata": {
  "kernelspec": {
   "display_name": "Python 3",
   "language": "python",
   "name": "python3"
  },
  "language_info": {
   "codemirror_mode": {
    "name": "ipython",
    "version": 3
   },
   "file_extension": ".py",
   "mimetype": "text/x-python",
   "name": "python",
   "nbconvert_exporter": "python",
   "pygments_lexer": "ipython3",
   "version": "3.8.8"
  }
 },
 "nbformat": 4,
 "nbformat_minor": 5
}
