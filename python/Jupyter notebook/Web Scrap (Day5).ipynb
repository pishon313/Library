{
 "cells": [
  {
   "cell_type": "code",
   "execution_count": 4,
   "id": "9b6ae495",
   "metadata": {},
   "outputs": [
    {
     "data": {
      "text/plain": [
       "True"
      ]
     },
     "execution_count": 4,
     "metadata": {},
     "output_type": "execute_result"
    }
   ],
   "source": [
    "import webbrowser\n",
    "\n",
    "url = 'www.naver.com'\n",
    "webbrowser.open(url)"
   ]
  },
  {
   "cell_type": "markdown",
   "id": "88430463",
   "metadata": {},
   "source": [
    "아마콘다 프롬프트에서 설치\n",
    "-conda install requests"
   ]
  },
  {
   "cell_type": "code",
   "execution_count": 5,
   "id": "5c13bd58",
   "metadata": {},
   "outputs": [],
   "source": [
    "import requests"
   ]
  },
  {
   "cell_type": "code",
   "execution_count": 6,
   "id": "ea1602f7",
   "metadata": {},
   "outputs": [
    {
     "name": "stdout",
     "output_type": "stream",
     "text": [
      "<Response [200]>\n"
     ]
    }
   ],
   "source": [
    "r = requests.get('https://www.google.co.kr')\n",
    "print(r)\n",
    "# 200은 정상적으로 나왔다는 수치"
   ]
  },
  {
   "cell_type": "code",
   "execution_count": 8,
   "id": "0b4d7948",
   "metadata": {},
   "outputs": [
    {
     "name": "stdout",
     "output_type": "stream",
     "text": [
      "<!doctype html><html itemscope=\"\" itemtype=\"http://schema.org/WebPage\" lang=\"ko\"><head><meta content=\"text/html; charset=UTF-8\" http-equiv=\"Content-Type\"><meta content=\"/images/branding/googleg/1x/googleg_standard_color_128dp.png\" itemprop=\"image\"><title>Google</title><script nonce=\"bw+m2qymEnT22NXQwNOArw==\">(function(){window.google={kEI:'AX4kYYzQCf-h5NoPmoaO4A4',kEXPI:'0,202343,569872,1,530320,56873,954,5104,207,4804,925,1391,383,246,5,1354,5250,1122516,1197718,564,328985,51224,16111,17447,11240,17572,4858,1362,284,9006,3025,17584,4020,978,13227,3848,4192,6430,14527,4517,2779,918,6674,1279,2212,530,149,1103,840,6297,109,3405,606,2023,1777,520,14670,3227,2845,9,4771,7581,5096,7539,338,5036,3407,908,2,16697,3,576,6460,148,13975,4,1528,2304,1236,5226,577,4684,2014,4067,9544,2725,2039,2658,4163,80,2458,656,30,11413,2215,2305,638,1494,5586,3772,7428,5803,2554,4094,17,3121,6,908,3,3541,1,14710,1814,283,912,5992,16728,1344,371,2,3036,21,10965,1649,282,1532,2377,1680,744,1274,1536,3042,1576,3,471,578,3,7832,1160,1267,2,21,5117,292,2379,2720,4546,3,123,4605,745,360,4275,3170,434,2,6,2283,1154,2383,1170,32,310,422,1128,805,190,2446,1384,1513,882,1922,551,3654,1720,1264,52,218,626,40,2,4,902,6,651,57,49,594,474,985,1598,1465,2328,1090,625,475,647,12,515,507,253,24,158,9,505,900,1150,302,109,1806,516,5586565,3904,102,124,220,73,43,30,14,119,5996589,2800697,882,444,1,2,80,1,1796,1,9,2553,1,748,936,4,559,1,4265,1,1,2,1331,4142,2609,155,17,13,72,139,4,2,20,2,169,13,19,46,5,39,96,548,29,2,2,1,2,1,2,2,7,4,1,2,2,2,2,2,2,353,513,186,1,1,158,3,2,2,2,2,2,4,2,3,3,269,234,2,1,1,7,16,24,6,18,1,5,23954408,4041351,338,3,2414,445,2,94,365,7,172,406,9,2259,2516',kBL:'qA29'};google.sn='webhp';google.kHL='ko';})();(function(){\n",
      "var f=this||self;var h,k=[];function l(a){for(var b;a&&(!a.getAttribute||!(b=a.getAttribute(\"eid\")));)a=a.parentNode;return b||h}function m(a){for(var b=null;a&&(!a.getAttribute||!(b=a.getAttribute(\"leid\")));)a=a.parentNode;return b}\n",
      "function n(a,b,c,d,g){var e=\"\";c||-1!==b.search(\"&ei=\")||(e=\"&ei=\"+l(d),-1===b.search(\"&lei=\")&&(d=m(d))&&(e+=\"&lei=\"+d));d=\"\";!c&&f._cshid&&-1===b.search(\"&cshid=\")&&\"slh\"!==a&&(d=\"&cshid=\"+f._cshid);c=c||\"/\"+(g||\"gen_204\")+\"?atyp=i&ct=\"+a+\"&cad=\"+b+e+\"&zx=\"+Date.now()+d;/^http:/i.test(c)&&\"https:\"===window.location.protocol&&(google.ml&&google.ml(Error(\"a\"),!1,{src:c,glmm:1}),c=\"\");return c};h=google.kEI;google.getEI=l;google.getLEI=m;google.ml=function(){return null};google.log=function(a,b,c,d,g){if(c=n(a,b,c,d,g)){a=new Image;var e=k.length;k[e]=a;a.onerror=a.onload=a.onabort=function(){delete k[e]};a.src=c}};google.logUrl=n;}).call(this);(function(){\n",
      "google.y={};google.sy=[];google.x=function(a,b){if(a)var c=a.id;else{do c=Math.random();while(google.y[c])}google.y[c]=[a,b];return!1};google.sx=function(a){google.sy.push(a)};google.lm=[];google.plm=function(a){google.lm.push.apply(google.lm,a)};google.lq=[];google.load=function(a,b,c){google.lq.push([[a],b,c])};google.loadAll=function(a,b){google.lq.push([a,b])};google.bx=!1;google.lx=function(){};}).call(this);google.f={};(function(){\n",
      "document.documentElement.addEventListener(\"submit\",function(b){var a;if(a=b.target){var c=a.getAttribute(\"data-submitfalse\");a=\"1\"==c||\"q\"==c&&!a.elements.q.value?!0:!1}else a=!1;a&&(b.preventDefault(),b.stopPropagation())},!0);document.documentElement.addEventListener(\"click\",function(b){var a;a:{for(a=b.target;a&&a!=document.documentElement;a=a.parentElement)if(\"A\"==a.tagName){a=\"1\"==a.getAttribute(\"data-nohref\");break a}a=!1}a&&b.preventDefault()},!0);}).call(this);</script><style>#gbar,#guser{font-size:13px;padding-top:1px !important;}#gbar{height:22px}#guser{padding-bottom:7px !important;text-align:right}.gbh,.gbd{border-top:1px solid #c9d7f1;font-size:1px}.gbh{height:0;position:absolute;top:24px;width:100%}@media all{.gb1{height:22px;margin-right:.5em;vertical-align:top}#gbar{float:left}}a.gb1,a.gb4{text-decoration:underline !important}a.gb1,a.gb4{color:#00c !important}.gbi .gb4{color:#dd8e27 !important}.gbf .gb4{color:#900 !important}\n",
      "</style><style>body,td,a,p,.h{font-family:굴림,돋움,arial,sans-serif}.ko{font-size:9pt}body{margin:0;overflow-y:scroll}#gog{padding:3px 8px 0}td{line-height:.8em}.gac_m td{line-height:17px}form{margin-bottom:20px}.h{color:#1558d6}em{font-weight:bold;font-style:normal}.lst{height:25px;width:496px}.gsfi,.lst{font:18px arial,sans-serif}.gsfs{font:17px arial,sans-serif}.ds{display:inline-box;display:inline-block;margin:3px 0 4px;margin-left:4px}input{font-family:inherit}body{background:#fff;color:#000}a{color:#4b11a8;text-decoration:none}a:hover,a:active{text-decoration:underline}.fl a{color:#1558d6}a:visited{color:#4b11a8}.sblc{padding-top:5px}.sblc a{display:block;margin:2px 0;margin-left:13px;font-size:11px}.lsbb{background:#f8f9fa;border:solid 1px;border-color:#dadce0 #70757a #70757a #dadce0;height:30px}.lsbb{display:block}#WqQANb a{display:inline-block;margin:0 12px}.lsb{background:url(/images/nav_logo229.png) 0 -261px repeat-x;border:none;color:#000;cursor:pointer;height:30px;margin:0;outline:0;font:15px arial,sans-serif;vertical-align:top}.lsb:active{background:#dadce0}.lst:focus{outline:none}.tiah{width:458px}</style><script nonce=\"bw+m2qymEnT22NXQwNOArw==\"></script></head><body bgcolor=\"#fff\"><script nonce=\"bw+m2qymEnT22NXQwNOArw==\">(function(){var src='/images/nav_logo229.png';var iesg=false;document.body.onload = function(){window.n && window.n();if (document.images){new Image().src=src;}\n",
      "if (!iesg){document.f&&document.f.q.focus();document.gbqf&&document.gbqf.q.focus();}\n",
      "}\n",
      "})();</script><div id=\"mngb\"><div id=gbar><nobr><b class=gb1>검색</b> <a class=gb1 href=\"https://www.google.co.kr/imghp?hl=ko&tab=wi\">이미지</a> <a class=gb1 href=\"https://maps.google.co.kr/maps?hl=ko&tab=wl\">지도</a> <a class=gb1 href=\"https://play.google.com/?hl=ko&tab=w8\">Play</a> <a class=gb1 href=\"https://www.youtube.com/?gl=KR&tab=w1\">YouTube</a> <a class=gb1 href=\"https://news.google.com/?tab=wn\">뉴스</a> <a class=gb1 href=\"https://mail.google.com/mail/?tab=wm\">Gmail</a> <a class=gb1 href=\"https://drive.google.com/?tab=wo\">드라이브</a> <a class=gb1 style=\"text-decoration:none\" href=\"https://www.google.co.kr/intl/ko/about/products?tab=wh\"><u>더보기</u> &raquo;</a></nobr></div><div id=guser width=100%><nobr><span id=gbn class=gbi></span><span id=gbf class=gbf></span><span id=gbe></span><a href=\"http://www.google.co.kr/history/optout?hl=ko\" class=gb4>웹 기록</a> | <a  href=\"/preferences?hl=ko\" class=gb4>설정</a> | <a target=_top id=gb_70 href=\"https://accounts.google.com/ServiceLogin?hl=ko&passive=true&continue=https://www.google.co.kr/&ec=GAZAAQ\" class=gb4>로그인</a></nobr></div><div class=gbh style=left:0></div><div class=gbh style=right:0></div></div><center><br clear=\"all\" id=\"lgpd\"><div id=\"lga\"><img alt=\"Google\" height=\"92\" src=\"/images/branding/googlelogo/1x/googlelogo_white_background_color_272x92dp.png\" style=\"padding:28px 0 14px\" width=\"272\" id=\"hplogo\"><br><br></div><form action=\"/search\" name=\"f\"><table cellpadding=\"0\" cellspacing=\"0\"><tr valign=\"top\"><td width=\"25%\">&nbsp;</td><td align=\"center\" nowrap=\"\"><input name=\"ie\" value=\"EUC-KR\" type=\"hidden\"><input value=\"ko\" name=\"hl\" type=\"hidden\"><input name=\"source\" type=\"hidden\" value=\"hp\"><input name=\"biw\" type=\"hidden\"><input name=\"bih\" type=\"hidden\"><div class=\"ds\" style=\"height:32px;margin:4px 0\"><div style=\"position:relative;zoom:1\"><input class=\"lst tiah\" style=\"margin:0;padding:5px 8px 0 6px;vertical-align:top;color:#000;padding-right:38px\" autocomplete=\"off\" value=\"\" title=\"Google 검색\" maxlength=\"2048\" name=\"q\" size=\"57\"><img src=\"/textinputassistant/tia.png\" style=\"position:absolute;cursor:pointer;right:5px;top:4px;z-index:300\" data-script-url=\"/textinputassistant/11/ko_tia.js\" id=\"tsuid1\" alt=\"\" height=\"23\" width=\"27\"><script nonce=\"bw+m2qymEnT22NXQwNOArw==\">(function(){var id='tsuid1';document.getElementById(id).onclick = function(){var s = document.createElement('script');s.src = this.getAttribute('data-script-url');(document.getElementById('xjsc')||document.body).appendChild(s);};})();</script></div></div><br style=\"line-height:0\"><span class=\"ds\"><span class=\"lsbb\"><input class=\"lsb\" value=\"Google 검색\" name=\"btnG\" type=\"submit\"></span></span><span class=\"ds\"><span class=\"lsbb\"><input class=\"lsb\" id=\"tsuid2\" value=\"I’m Feeling Lucky\" name=\"btnI\" type=\"submit\"><script nonce=\"bw+m2qymEnT22NXQwNOArw==\">(function(){var id='tsuid2';document.getElementById(id).onclick = function(){if (this.form.q.value){this.checked = 1;if (this.form.iflsig)this.form.iflsig.disabled = false;}\n",
      "else top.location='/doodles/';};})();</script><input value=\"AINFCbYAAAAAYSSMEYVU0nI9mgDwAT-A_sZYgybdJSK8\" name=\"iflsig\" type=\"hidden\"></span></span></td><td class=\"fl sblc\" align=\"left\" nowrap=\"\" width=\"25%\"><a href=\"/advanced_search?hl=ko&amp;authuser=0\">고급검색</a></td></tr></table><input id=\"gbv\" name=\"gbv\" type=\"hidden\" value=\"1\"><script nonce=\"bw+m2qymEnT22NXQwNOArw==\">(function(){\n",
      "var a,b=\"1\";if(document&&document.getElementById)if(\"undefined\"!=typeof XMLHttpRequest)b=\"2\";else if(\"undefined\"!=typeof ActiveXObject){var c,d,e=[\"MSXML2.XMLHTTP.6.0\",\"MSXML2.XMLHTTP.3.0\",\"MSXML2.XMLHTTP\",\"Microsoft.XMLHTTP\"];for(c=0;d=e[c++];)try{new ActiveXObject(d),b=\"2\"}catch(h){}}a=b;if(\"2\"==a&&-1==location.search.indexOf(\"&gbv=2\")){var f=google.gbvu,g=document.getElementById(\"gbv\");g&&(g.value=a);f&&window.setTimeout(function(){location.href=f},0)};}).call(this);</script></form><div id=\"gac_scont\"></div><div style=\"font-size:83%;min-height:3.5em\"><br></div><span id=\"footer\"><div style=\"font-size:10pt\"><div style=\"margin:19px auto;text-align:center\" id=\"WqQANb\"><a href=\"/intl/ko/ads/\">광고 프로그램</a><a href=\"http://www.google.co.kr/intl/ko/services/\">비즈니스 솔루션</a><a href=\"/intl/ko/about.html\">Google 정보</a><a href=\"https://www.google.co.kr/setprefdomain?prefdom=US&amp;sig=K_kn01uBH6aWiPWrdTeZrl2Fje5fw%3D\" id=\"fehl\">Google.com</a></div></div><p style=\"font-size:8pt;color:#70757a\">&copy; 2021 - <a href=\"/intl/ko/policies/privacy/\">개인정보처리방침</a> - <a href=\"/intl/ko/policies/terms/\">약관</a></p></span></center><script nonce=\"bw+m2qymEnT22NXQwNOArw==\">(function(){window.google.cdo={height:757,width:1440};(function(){\n",
      "var a=window.innerWidth,b=window.innerHeight;if(!a||!b){var c=window.document,d=\"CSS1Compat\"==c.compatMode?c.documentElement:c.body;a=d.clientWidth;b=d.clientHeight}a&&b&&(a!=google.cdo.width||b!=google.cdo.height)&&google.log(\"\",\"\",\"/client_204?&atyp=i&biw=\"+a+\"&bih=\"+b+\"&ei=\"+google.kEI);}).call(this);})();</script> <script nonce=\"bw+m2qymEnT22NXQwNOArw==\">(function(){google.xjs={ck:'',cs:'',excm:[]};})();</script>  <script nonce=\"bw+m2qymEnT22NXQwNOArw==\">(function(){var u='/xjs/_/js/k\\x3dxjs.hp.en.cvmykSCjNuQ.O/am\\x3dAPgEmA/d\\x3d1/ed\\x3d1/rs\\x3dACT90oFn9TVcgd42PzKMaBnp2d9L_zQEog/m\\x3dsb_he,d';\n",
      "var e=this||self,f=function(a){return a};var g;var l=function(a,b){this.g=b===h?a:\"\"};l.prototype.toString=function(){return this.g+\"\"};var h={};function m(){var a=u;google.lx=function(){n(a);google.lx=function(){}};google.bx||google.lx()}\n",
      "function n(a){google.timers&&google.timers.load&&google.tick&&google.tick(\"load\",\"xjsls\");var b=document;var c=\"SCRIPT\";\"application/xhtml+xml\"===b.contentType&&(c=c.toLowerCase());c=b.createElement(c);if(void 0===g){b=null;var k=e.trustedTypes;if(k&&k.createPolicy){try{b=k.createPolicy(\"goog#html\",{createHTML:f,createScript:f,createScriptURL:f})}catch(p){e.console&&e.console.error(p.message)}g=b}else g=b}a=(b=g)?b.createScriptURL(a):a;a=new l(a,h);c.src=a instanceof l&&a.constructor===l?a.g:\"type_error:TrustedResourceUrl\";var d;a=(c.ownerDocument&&c.ownerDocument.defaultView||window).document;(d=(a=null===(d=a.querySelector)||void 0===d?void 0:d.call(a,\"script[nonce]\"))?a.nonce||a.getAttribute(\"nonce\")||\"\":\"\")&&c.setAttribute(\"nonce\",d);document.body.appendChild(c);google.psa=!0};setTimeout(function(){m()},0);})();(function(){window.google.xjsu='/xjs/_/js/k\\x3dxjs.hp.en.cvmykSCjNuQ.O/am\\x3dAPgEmA/d\\x3d1/ed\\x3d1/rs\\x3dACT90oFn9TVcgd42PzKMaBnp2d9L_zQEog/m\\x3dsb_he,d';})();function _DumpException(e){throw e;}\n",
      "function _F_installCss(c){}\n",
      "(function(){google.jl={attn:false,blt:'none',chnk:0,dw:false,emtn:0,end:0,ine:false,lls:'default',pdt:0,rep:0,sif:true,snet:true,strt:0,ubm:false,uwp:true};})();(function(){var pmc='{\\x22d\\x22:{},\\x22sb_he\\x22:{\\x22agen\\x22:true,\\x22cgen\\x22:true,\\x22client\\x22:\\x22heirloom-hp\\x22,\\x22dh\\x22:true,\\x22dhqt\\x22:true,\\x22ds\\x22:\\x22\\x22,\\x22ffql\\x22:\\x22ko\\x22,\\x22fl\\x22:true,\\x22host\\x22:\\x22google.co.kr\\x22,\\x22isbh\\x22:28,\\x22jsonp\\x22:true,\\x22msgs\\x22:{\\x22cibl\\x22:\\x22검색어 지우기\\x22,\\x22dym\\x22:\\x22이것을 찾으셨나요?\\x22,\\x22lcky\\x22:\\x22I’m Feeling Lucky\\x22,\\x22lml\\x22:\\x22자세히 알아보기\\x22,\\x22oskt\\x22:\\x22입력 도구\\x22,\\x22psrc\\x22:\\x22검색어가 \\\\u003Ca href\\x3d\\\\\\x22/history\\\\\\x22\\\\u003E웹 기록\\\\u003C/a\\\\u003E에서 삭제되었습니다.\\x22,\\x22psrl\\x22:\\x22삭제\\x22,\\x22sbit\\x22:\\x22이미지로 검색\\x22,\\x22srch\\x22:\\x22Google 검색\\x22},\\x22ovr\\x22:{},\\x22pq\\x22:\\x22\\x22,\\x22refpd\\x22:true,\\x22refspre\\x22:true,\\x22rfs\\x22:[],\\x22sbas\\x22:\\x220 3px 8px 0 rgba(0,0,0,0.2),0 0 0 1px rgba(0,0,0,0.08)\\x22,\\x22sbpl\\x22:16,\\x22sbpr\\x22:16,\\x22scd\\x22:10,\\x22stok\\x22:\\x22Rv2_hQbVzj1ke14PZewC9Oee-Qs\\x22,\\x22uhde\\x22:false}}';google.pmc=JSON.parse(pmc);})();</script>        </body></html>\n"
     ]
    }
   ],
   "source": [
    "print(r.text)\n",
    "#request 객체의 text를 이용해서 내용을 볼 수 있다. "
   ]
  },
  {
   "cell_type": "markdown",
   "id": "57fc5e9e",
   "metadata": {},
   "source": [
    "# 인스톨\n",
    "-conda install \n",
    "- conta install lxml"
   ]
  },
  {
   "cell_type": "code",
   "execution_count": 9,
   "id": "eaca116b",
   "metadata": {},
   "outputs": [],
   "source": [
    "from bs4 import BeautifulSoup(html,'lxml')"
   ]
  },
  {
   "cell_type": "code",
   "execution_count": 10,
   "id": "8036cb22",
   "metadata": {},
   "outputs": [],
   "source": [
    "html = \"\"\"<html><body><div><span>\n",
    "       <a href=http://www.naver.com>naver</a>\n",
    "       <a href=https://www.google.com>google</a>\n",
    "       <a href=http://www.daum.net/>daum</a>\n",
    "       </span></div></body></html>\"\"\"\n",
    "\n",
    "soup = BeautifulSoup(html, 'lxml')"
   ]
  },
  {
   "cell_type": "code",
   "execution_count": 12,
   "id": "fd276feb",
   "metadata": {},
   "outputs": [
    {
     "name": "stdout",
     "output_type": "stream",
     "text": [
      "<html>\n",
      " <body>\n",
      "  <div>\n",
      "   <span>\n",
      "    <a href=\"http://www.naver.com\">\n",
      "     naver\n",
      "    </a>\n",
      "    <a href=\"https://www.google.com\">\n",
      "     google\n",
      "    </a>\n",
      "    <a href=\"http://www.daum.net/\">\n",
      "     daum\n",
      "    </a>\n",
      "   </span>\n",
      "  </div>\n",
      " </body>\n",
      "</html>\n"
     ]
    }
   ],
   "source": [
    "print(soup.prettify())"
   ]
  },
  {
   "cell_type": "code",
   "execution_count": 13,
   "id": "714a61cb",
   "metadata": {},
   "outputs": [
    {
     "name": "stdout",
     "output_type": "stream",
     "text": [
      "<a href=\"http://www.naver.com\">naver</a>\n"
     ]
    }
   ],
   "source": [
    "print(soup.find('a'))"
   ]
  },
  {
   "cell_type": "code",
   "execution_count": 16,
   "id": "06feee5b",
   "metadata": {},
   "outputs": [
    {
     "ename": "SyntaxError",
     "evalue": "unexpected EOF while parsing (<ipython-input-16-61510f0ea8d4>, line 1)",
     "output_type": "error",
     "traceback": [
      "\u001b[1;36m  File \u001b[1;32m\"<ipython-input-16-61510f0ea8d4>\"\u001b[1;36m, line \u001b[1;32m1\u001b[0m\n\u001b[1;33m    print(soup.find('a',get_text())\u001b[0m\n\u001b[1;37m                                   ^\u001b[0m\n\u001b[1;31mSyntaxError\u001b[0m\u001b[1;31m:\u001b[0m unexpected EOF while parsing\n"
     ]
    }
   ],
   "source": [
    "print(soup.find('a',get_text())"
   ]
  },
  {
   "cell_type": "code",
   "execution_count": 17,
   "id": "3a53b6d3",
   "metadata": {},
   "outputs": [
    {
     "name": "stdout",
     "output_type": "stream",
     "text": [
      "[<a href=\"http://www.naver.com\">naver</a>, <a href=\"https://www.google.com\">google</a>, <a href=\"http://www.daum.net/\">daum</a>]\n"
     ]
    }
   ],
   "source": [
    "site_names = soup.find_all('a')\n",
    "print(site_names)"
   ]
  },
  {
   "cell_type": "code",
   "execution_count": 18,
   "id": "01609cca",
   "metadata": {},
   "outputs": [
    {
     "name": "stdout",
     "output_type": "stream",
     "text": [
      "naver\n",
      "google\n",
      "daum\n"
     ]
    }
   ],
   "source": [
    "for site_name in site_names:\n",
    "    print(site_name.get_text())"
   ]
  },
  {
   "cell_type": "code",
   "execution_count": 19,
   "id": "a0e6870a",
   "metadata": {},
   "outputs": [],
   "source": [
    "html2 = \"\"\"\n",
    "<html>\n",
    " <head>\n",
    " <title>작품과 작가 모음</title>\n",
    " </head>\n",
    " <body>\n",
    " <h1>책 정보</h1>\n",
    " <p id=\"book_title\">토지</p>\n",
    " <p id=\"author\">박경리</p>\n",
    " <p id=\"book_title\">태백산맥</p>\n",
    " <p id=\"author\">조정래</p>\n",
    " <p id=\"book_title\">감옥으로부터의 사색</p>\n",
    " <p id=\"author\">신영복</p>\n",
    " </body>\n",
    "</html>\n",
    "\"\"\""
   ]
  },
  {
   "cell_type": "code",
   "execution_count": 20,
   "id": "af039afa",
   "metadata": {},
   "outputs": [],
   "source": [
    "soup2 = BeautifulSoup(html2, 'lxml')"
   ]
  },
  {
   "cell_type": "code",
   "execution_count": 21,
   "id": "2207e40f",
   "metadata": {},
   "outputs": [
    {
     "name": "stdout",
     "output_type": "stream",
     "text": [
      "<title>작품과 작가 모음</title>\n"
     ]
    }
   ],
   "source": [
    "print(soup2.title)"
   ]
  },
  {
   "cell_type": "code",
   "execution_count": 22,
   "id": "bb1cb27d",
   "metadata": {},
   "outputs": [
    {
     "name": "stdout",
     "output_type": "stream",
     "text": [
      "<body>\n",
      "<h1>책 정보</h1>\n",
      "<p id=\"book_title\">토지</p>\n",
      "<p id=\"author\">박경리</p>\n",
      "<p id=\"book_title\">태백산맥</p>\n",
      "<p id=\"author\">조정래</p>\n",
      "<p id=\"book_title\">감옥으로부터의 사색</p>\n",
      "<p id=\"author\">신영복</p>\n",
      "</body>\n"
     ]
    }
   ],
   "source": [
    "print(soup2.body)"
   ]
  },
  {
   "cell_type": "code",
   "execution_count": 23,
   "id": "6e49f7c7",
   "metadata": {},
   "outputs": [
    {
     "name": "stdout",
     "output_type": "stream",
     "text": [
      "<h1>책 정보</h1>\n"
     ]
    }
   ],
   "source": [
    "print(soup2.body.h1)"
   ]
  },
  {
   "cell_type": "code",
   "execution_count": 24,
   "id": "a958c31f",
   "metadata": {},
   "outputs": [
    {
     "name": "stdout",
     "output_type": "stream",
     "text": [
      "<p id=\"book_title\">토지</p>\n"
     ]
    }
   ],
   "source": [
    "print(soup2.find('p', {'id':'book_title'}))"
   ]
  },
  {
   "cell_type": "code",
   "execution_count": 25,
   "id": "c7d29205",
   "metadata": {},
   "outputs": [
    {
     "name": "stdout",
     "output_type": "stream",
     "text": [
      "<p id=\"author\">박경리</p>\n"
     ]
    }
   ],
   "source": [
    "print(soup2.find('p', {'id':'author'}))"
   ]
  },
  {
   "cell_type": "code",
   "execution_count": 26,
   "id": "9e9c4fd0",
   "metadata": {},
   "outputs": [
    {
     "name": "stdout",
     "output_type": "stream",
     "text": [
      "토지/박경리\n",
      "태백산맥/조정래\n",
      "감옥으로부터의 사색/신영복\n"
     ]
    }
   ],
   "source": [
    "book_titles = soup2.find_all('p', {'id' : 'book_title'})\n",
    "authors = soup2.find_all('p',{'id' : 'author'})\n",
    "\n",
    "for book_title, author in zip(book_titles, authors):\n",
    "    print(book_title.get_text() + '/' + author.get_text())"
   ]
  },
  {
   "cell_type": "code",
   "execution_count": 27,
   "id": "961661d6",
   "metadata": {},
   "outputs": [
    {
     "name": "stdout",
     "output_type": "stream",
     "text": [
      "<h1>책 정보</h1>\n"
     ]
    }
   ],
   "source": [
    "print(soup2.body.h1)"
   ]
  },
  {
   "cell_type": "code",
   "execution_count": 29,
   "id": "cee6a9f2",
   "metadata": {},
   "outputs": [
    {
     "name": "stdout",
     "output_type": "stream",
     "text": [
      "[<h1>책 정보</h1>]\n"
     ]
    }
   ],
   "source": [
    "print(soup2.select('body h1'))"
   ]
  },
  {
   "cell_type": "code",
   "execution_count": 30,
   "id": "b64146fa",
   "metadata": {},
   "outputs": [
    {
     "name": "stdout",
     "output_type": "stream",
     "text": [
      "[<p id=\"book_title\">토지</p>, <p id=\"author\">박경리</p>, <p id=\"book_title\">태백산맥</p>, <p id=\"author\">조정래</p>, <p id=\"book_title\">감옥으로부터의 사색</p>, <p id=\"author\">신영복</p>]\n"
     ]
    }
   ],
   "source": [
    "print(soup2.select('body p'))"
   ]
  },
  {
   "cell_type": "code",
   "execution_count": 31,
   "id": "6e46cfb3",
   "metadata": {},
   "outputs": [
    {
     "name": "stdout",
     "output_type": "stream",
     "text": [
      "[<p id=\"book_title\">토지</p>, <p id=\"book_title\">태백산맥</p>, <p id=\"book_title\">감옥으로부터의 사색</p>]\n"
     ]
    }
   ],
   "source": [
    "print(soup2.select('p#book_title'))"
   ]
  },
  {
   "cell_type": "code",
   "execution_count": 36,
   "id": "79eaec71",
   "metadata": {},
   "outputs": [],
   "source": [
    "f = open('data/example.html', encoding='utf-8')\n",
    "html3 = f.read()\n",
    "f.close()"
   ]
  },
  {
   "cell_type": "code",
   "execution_count": 37,
   "id": "9dacfec1",
   "metadata": {},
   "outputs": [
    {
     "name": "stdout",
     "output_type": "stream",
     "text": [
      "<!doctype html>\n",
      "<html>\n",
      "<head>\n",
      "<meta charset=\"utf-8\">\n",
      "<title>사이트 모음</title>\n",
      "</head>\n",
      "<body>\n",
      "<p id=\"title\">\n",
      "<b>자주 가는 사이트 모음</b>\n",
      "</p>\n",
      "<p id=\"contents\">이곳은 자주 가는 사이트를 모아둔 곳입니다.</p>\n",
      "<a href=\"http://www.naver.com\" class=\"portal\" id=\"naver\">네이버</a> <br>\n",
      "<a href=\"https://www.google.com\" class=\"search\" id=\"google\">구글</a> <br>\n",
      "<a href=\"http://www.daum.net\" class=\"portal\" id=\"daum\">다음</a> <br>\n",
      "<a href=\"http://www.nl.go.kr\" class=\"government\" id=\"nl\">국립중앙도서관</a>\n",
      "</body>\n",
      "</html>\n",
      "\n"
     ]
    }
   ],
   "source": [
    "print(html3)"
   ]
  },
  {
   "cell_type": "code",
   "execution_count": 38,
   "id": "33d372b0",
   "metadata": {},
   "outputs": [
    {
     "name": "stdout",
     "output_type": "stream",
     "text": [
      "[<a class=\"portal\" href=\"http://www.naver.com\" id=\"naver\">네이버</a>, <a class=\"portal\" href=\"http://www.daum.net\" id=\"daum\">다음</a>]\n"
     ]
    }
   ],
   "source": [
    "soup3 = BeautifulSoup(html3, 'lxml')\n",
    "print(soup3.select('a.portal'))"
   ]
  },
  {
   "cell_type": "markdown",
   "id": "39386d50",
   "metadata": {},
   "source": [
    "# 실전\n",
    "-https://www.alexa.com/topsites/countries/KR\n",
    "- 아마존에서 운영하는 각 나라에서 접속률이 가장 많은 사이트\n",
    "\n",
    "- 위 사이트에서 Top 랭킹 50개를 가져와 보자"
   ]
  },
  {
   "cell_type": "code",
   "execution_count": 72,
   "id": "554547d0",
   "metadata": {},
   "outputs": [],
   "source": [
    "# 1 . 사이트 주소를 가져와 담는다\n",
    "\n",
    "url = 'https://www.alexa.com/topsites/countries/KR'\n",
    "html_website_ranking = requests.get(url).text\n",
    "soup_website_ranking = BeautifulSoup(html_website_ranking, 'lxml')"
   ]
  },
  {
   "cell_type": "code",
   "execution_count": 73,
   "id": "471e10ec",
   "metadata": {},
   "outputs": [
    {
     "name": "stdout",
     "output_type": "stream",
     "text": [
      "[<a href=\"https://support.alexa.com/hc/en-us/articles/200444340\" target=\"_blank\">this explanation</a>, <a href=\"/siteinfo/google.com\">Google.com</a>, <a href=\"/siteinfo/naver.com\">Naver.com</a>, <a href=\"/siteinfo/youtube.com\">Youtube.com</a>, <a href=\"/siteinfo/daum.net\">Daum.net</a>, <a href=\"/siteinfo/tistory.com\">Tistory.com</a>]\n"
     ]
    }
   ],
   "source": [
    "website_ranking = soup_website_ranking.select('p a')\n",
    "print(website_ranking[:6])\n",
    "# 맨 위에 원하지 않는 것이 딸려왔다. "
   ]
  },
  {
   "cell_type": "code",
   "execution_count": 74,
   "id": "f6181353",
   "metadata": {},
   "outputs": [],
   "source": [
    "# 첫번쨰 것을 날려준다\n",
    "website_ranking = website_ranking[1:]"
   ]
  },
  {
   "cell_type": "code",
   "execution_count": 75,
   "id": "e78ebc31",
   "metadata": {},
   "outputs": [
    {
     "name": "stdout",
     "output_type": "stream",
     "text": [
      "50\n"
     ]
    }
   ],
   "source": [
    "print(len(website_ranking))"
   ]
  },
  {
   "cell_type": "code",
   "execution_count": 76,
   "id": "e1174e93",
   "metadata": {},
   "outputs": [],
   "source": [
    "website_ranking_sites = [element.get_text()\n",
    "                        for element in \n",
    "                        website_ranking]"
   ]
  },
  {
   "cell_type": "code",
   "execution_count": 77,
   "id": "585cc9cf",
   "metadata": {},
   "outputs": [
    {
     "ename": "SyntaxError",
     "evalue": "invalid syntax (<ipython-input-77-c232f4bd6124>, line 1)",
     "output_type": "error",
     "traceback": [
      "\u001b[1;36m  File \u001b[1;32m\"<ipython-input-77-c232f4bd6124>\"\u001b[1;36m, line \u001b[1;32m1\u001b[0m\n\u001b[1;33m    print(website_ranking_sites(:5))\u001b[0m\n\u001b[1;37m                                ^\u001b[0m\n\u001b[1;31mSyntaxError\u001b[0m\u001b[1;31m:\u001b[0m invalid syntax\n"
     ]
    }
   ],
   "source": [
    "print(website_ranking_sites(:5))"
   ]
  },
  {
   "cell_type": "code",
   "execution_count": 78,
   "id": "55415d49",
   "metadata": {},
   "outputs": [
    {
     "name": "stdout",
     "output_type": "stream",
     "text": [
      "[Top Site in South Korea]\n",
      "1: Google.com\n",
      "2: Naver.com\n",
      "3: Youtube.com\n",
      "4: Daum.net\n",
      "5: Tistory.com\n",
      "6: Kakao.com\n",
      "7: Tmall.com\n",
      "8: Coupang.com\n",
      "9: Google.co.kr\n",
      "10: Amazon.com\n",
      "11: Netflix.com\n",
      "12: Sohu.com\n",
      "13: Facebook.com\n",
      "14: Namu.wiki\n",
      "15: Qq.com\n",
      "16: Wikipedia.org\n",
      "17: Taobao.com\n",
      "18: Jd.com\n",
      "19: 360.cn\n",
      "20: Baidu.com\n",
      "21: Yahoo.com\n",
      "22: Microsoft.com\n",
      "23: Adobe.com\n",
      "24: Dcinside.com\n",
      "25: Instagram.com\n",
      "26: Twitch.tv\n",
      "27: Zoom.us\n",
      "28: Donga.com\n",
      "29: Chosun.com\n",
      "30: Nate.com\n",
      "31: Office.com\n",
      "32: Sina.com.cn\n",
      "33: Fmkorea.com\n",
      "34: 11st.co.kr\n",
      "35: Stackoverflow.com\n",
      "36: Saramin.co.kr\n",
      "37: Weibo.com\n",
      "38: Jobkorea.co.kr\n",
      "39: Ebay.com\n",
      "40: Danawa.com\n",
      "41: Gmarket.co.kr\n",
      "42: Apple.com\n",
      "43: Aliexpress.com\n",
      "44: Afreecatv.com\n",
      "45: Yna.co.kr\n",
      "46: Cafe24.com\n",
      "47: Bing.com\n",
      "48: Nicovideo.jp\n",
      "49: Yahoo.co.jp\n",
      "50: Inven.co.kr\n"
     ]
    }
   ],
   "source": [
    "print('[Top Site in South Korea]')\n",
    "for k in range(len(website_ranking)):\n",
    "    print(\"{0}: {1}\".format(k+1,website_ranking_sites[k]))"
   ]
  },
  {
   "cell_type": "code",
   "execution_count": 79,
   "id": "20aea21b",
   "metadata": {},
   "outputs": [],
   "source": [
    "import pandas as pd\n",
    "\n",
    "ranking_dict = {'Website' : website_ranking_sites}\n",
    "df = pd.DataFrame(ranking_dict, index=range(1, len(website_ranking)+1))"
   ]
  },
  {
   "cell_type": "code",
   "execution_count": 80,
   "id": "3e9caa90",
   "metadata": {},
   "outputs": [
    {
     "name": "stdout",
     "output_type": "stream",
     "text": [
      "              Website\n",
      "1          Google.com\n",
      "2           Naver.com\n",
      "3         Youtube.com\n",
      "4            Daum.net\n",
      "5         Tistory.com\n",
      "6           Kakao.com\n",
      "7           Tmall.com\n",
      "8         Coupang.com\n",
      "9        Google.co.kr\n",
      "10         Amazon.com\n",
      "11        Netflix.com\n",
      "12           Sohu.com\n",
      "13       Facebook.com\n",
      "14          Namu.wiki\n",
      "15             Qq.com\n",
      "16      Wikipedia.org\n",
      "17         Taobao.com\n",
      "18             Jd.com\n",
      "19             360.cn\n",
      "20          Baidu.com\n",
      "21          Yahoo.com\n",
      "22      Microsoft.com\n",
      "23          Adobe.com\n",
      "24       Dcinside.com\n",
      "25      Instagram.com\n",
      "26          Twitch.tv\n",
      "27            Zoom.us\n",
      "28          Donga.com\n",
      "29         Chosun.com\n",
      "30           Nate.com\n",
      "31         Office.com\n",
      "32        Sina.com.cn\n",
      "33        Fmkorea.com\n",
      "34         11st.co.kr\n",
      "35  Stackoverflow.com\n",
      "36      Saramin.co.kr\n",
      "37          Weibo.com\n",
      "38     Jobkorea.co.kr\n",
      "39           Ebay.com\n",
      "40         Danawa.com\n",
      "41      Gmarket.co.kr\n",
      "42          Apple.com\n",
      "43     Aliexpress.com\n",
      "44      Afreecatv.com\n",
      "45          Yna.co.kr\n",
      "46         Cafe24.com\n",
      "47           Bing.com\n",
      "48       Nicovideo.jp\n",
      "49        Yahoo.co.jp\n",
      "50        Inven.co.kr\n"
     ]
    }
   ],
   "source": [
    "print(df)"
   ]
  },
  {
   "cell_type": "markdown",
   "id": "8e413584",
   "metadata": {},
   "source": [
    "# 파이썬 공식 페이지에서 파이썬 로고 이미지 다운로드 하기\n",
    "-1. 이미지의 주소를 다운로드(오른쪽 클릭 -> 이미지 주소복사 -> ur;='붙여넣기'\n"
   ]
  },
  {
   "cell_type": "code",
   "execution_count": 83,
   "id": "5b629833",
   "metadata": {},
   "outputs": [
    {
     "name": "stdout",
     "output_type": "stream",
     "text": [
      "<Response [200]>\n"
     ]
    }
   ],
   "source": [
    "url = 'https://www.python.org/static/img/python-logo.png'\n",
    "html_image = requests.get(url)\n",
    "print(html_image)"
   ]
  },
  {
   "cell_type": "code",
   "execution_count": 85,
   "id": "d76a7290",
   "metadata": {},
   "outputs": [
    {
     "name": "stdout",
     "output_type": "stream",
     "text": [
      "python-logo.png\n"
     ]
    }
   ],
   "source": [
    "# 전체 url에서 맨 뒤의 이미지 이름을 잘라내야 한다 \n",
    "# 이렇게 url에서 맨 뒤이 이름을 자라주는 것이 import os 다 \n",
    "import os\n",
    "\n",
    "file_name = os.path.basename(url)\n",
    "print(file_name)"
   ]
  },
  {
   "cell_type": "code",
   "execution_count": 86,
   "id": "8536d5bd",
   "metadata": {},
   "outputs": [],
   "source": [
    "url = 'https://www.python.org/static/img/python-logo.png'\n",
    "html_image = requests.get(url)\n",
    "file_name = os.path.basename(url)\n",
    "folder = 'download' # 저장할 파일 지정/ 현재 위치에서 다운로드 파일을 새로 만들어 저장\n",
    "\n",
    "if not os.path.exists(folder):\n",
    "    os.makedirs(folder)\n",
    "    \n",
    "iamge_path = os.path.join(folder, file_name)\n",
    "\n",
    "imageFile = open(iamge_path, 'wb')\n",
    "chunk_size = 1000000\n",
    "for chunk in html_image.iter_content(chunk_size):\n",
    "    # 이 청크 사이즈만큼 돌아간다\n",
    "    imageFile.write(chunk)\n",
    "    \n",
    "imageFile.close()"
   ]
  },
  {
   "cell_type": "code",
   "execution_count": 87,
   "id": "f98c1d4f",
   "metadata": {},
   "outputs": [
    {
     "name": "stdout",
     "output_type": "stream",
     "text": [
      "dowmload\\python-logo.png\n"
     ]
    }
   ],
   "source": [
    "print(iamge_path)"
   ]
  },
  {
   "cell_type": "markdown",
   "id": "339f24cd",
   "metadata": {},
   "source": [
    "실전 : 이미지 사이트에 있는 이미지 파일을 모두 불러오기\n",
    "- 무료 다운로드 이미지 사이트 : picjumbo"
   ]
  },
  {
   "cell_type": "code",
   "execution_count": 106,
   "id": "bc1e4dcf",
   "metadata": {},
   "outputs": [
    {
     "name": "stdout",
     "output_type": "stream",
     "text": [
      "[<img alt=\"Download Masked Crab on a Rocky Shore FREE Stock Photo\" class=\"image\" data-src=\"https://picjumbo.com/wp-content/uploads/masked-crab-on-a-rocky-shore-free-photo-1080x586.jpg\" itemprop=\"contentUrl\" src=\"https://i0.wp.com/picjumbo.com/wp-content/uploads/masked-crab-on-a-rocky-shore-free-photo.jpg?w=5&amp;quality=20&amp;strip=all\" title=\"Download Masked Crab on a Rocky Shore FREE Stock Photo\" width=\"1080\"/>, <img alt=\"Download Little Crab on The Rocky Shore FREE Stock Photo\" class=\"image\" data-src=\"https://picjumbo.com/wp-content/uploads/little-crab-on-the-rocky-shore-free-photo-1080x720.jpg\" itemprop=\"contentUrl\" src=\"https://i0.wp.com/picjumbo.com/wp-content/uploads/little-crab-on-the-rocky-shore-free-photo.jpg?w=5&amp;quality=20&amp;strip=all\" title=\"Download Little Crab on The Rocky Shore FREE Stock Photo\" width=\"1080\"/>, <img alt=\"Download Walking Cute Yorkshire Terrier FREE Stock Photo\" class=\"image\" data-src=\"https://picjumbo.com/wp-content/uploads/walking-cute-yorkshire-terrier-free-photo-1080x640.jpg\" itemprop=\"contentUrl\" src=\"https://i0.wp.com/picjumbo.com/wp-content/uploads/walking-cute-yorkshire-terrier-free-photo.jpg?w=5&amp;quality=20&amp;strip=all\" title=\"Download Walking Cute Yorkshire Terrier FREE Stock Photo\" width=\"1080\"/>, <img alt=\"Download Perfectly Masked Crab on a Rock FREE Stock Photo\" class=\"image\" data-src=\"https://picjumbo.com/wp-content/uploads/perfectly-masked-crab-on-a-rock-free-photo-1080x720.jpg\" itemprop=\"contentUrl\" src=\"https://i0.wp.com/picjumbo.com/wp-content/uploads/perfectly-masked-crab-on-a-rock-free-photo.jpg?w=5&amp;quality=20&amp;strip=all\" title=\"Download Perfectly Masked Crab on a Rock FREE Stock Photo\" width=\"1080\"/>, <img alt=\"Download Husky Dog on a Frozen Lake FREE Stock Photo\" class=\"image\" data-src=\"https://picjumbo.com/wp-content/uploads/husky-dog-on-a-frozen-lake-free-photo-1080x1620.jpg\" itemprop=\"contentUrl\" src=\"https://i0.wp.com/picjumbo.com/wp-content/uploads/husky-dog-on-a-frozen-lake-free-photo.jpg?w=5&amp;quality=20&amp;strip=all\" title=\"Download Husky Dog on a Frozen Lake FREE Stock Photo\" width=\"1080\"/>]\n"
     ]
    }
   ],
   "source": [
    "url = 'https://picjumbo.com/free-stock-photos/animals/'\n",
    "html_picjumbo = requests.get(url).text\n",
    "soup_picjumbo = BeautifulSoup(html_picjumbo, 'lxml')\n",
    "image_elements = soup_picjumbo.select('picture img')\n",
    "print(image_elements[:5])"
   ]
  },
  {
   "cell_type": "code",
   "execution_count": 108,
   "id": "a4c705b6",
   "metadata": {},
   "outputs": [
    {
     "name": "stdout",
     "output_type": "stream",
     "text": [
      "https://picjumbo.com/wp-content/uploads/masked-crab-on-a-rocky-shore-free-photo-1080x586.jpg\n"
     ]
    }
   ],
   "source": [
    "image_url = image_elements[0].get('data-src')\n",
    "print(image_url)"
   ]
  },
  {
   "cell_type": "code",
   "execution_count": 121,
   "id": "a4d8b13a",
   "metadata": {},
   "outputs": [],
   "source": [
    "def get_image_url(url): # 이미지 url을 다운받는 함수\n",
    "    html_image = requests.get(url).text\n",
    "    soup_image = BeautifulSoup(html_image, 'lxml')\n",
    "    image_elements = soup_image.select('picture img')\n",
    "    if image_elements != None:\n",
    "        image_urls = []\n",
    "        for image_element in image_elements:\n",
    "            image_urls.append(image_element.get('data-src'))\n",
    "            \n",
    "        return image_urls\n",
    "    else:\n",
    "        return None\n",
    "    "
   ]
  },
  {
   "cell_type": "code",
   "execution_count": 124,
   "id": "74c7c3d0",
   "metadata": {},
   "outputs": [],
   "source": [
    "def dowmload_image(img_folder, img_url):\n",
    "    if img_url != None:\n",
    "        html_image = requests.get(img_url)\n",
    "        image_file = open(os.path.join(img_folder, os.path.basename(img_url)), 'wb')\n",
    "        \n",
    "        chunk_size = 1000000\n",
    "        for chunk in html_image.iter_content(chunk_size):\n",
    "            image_file.write(chunk)\n",
    "        \n",
    "        image_file.close()\n",
    "        print('이미지 파일:{0} 받기 완료'.format(os.path.basename(img_url)))\n",
    "    else:\n",
    "        print(\"이미지가 없습니다\")"
   ]
  },
  {
   "cell_type": "code",
   "execution_count": 126,
   "id": "d41a9b13",
   "metadata": {},
   "outputs": [
    {
     "name": "stdout",
     "output_type": "stream",
     "text": [
      "22\n",
      "이미지 파일:masked-crab-on-a-rocky-shore-free-photo-1080x586.jpg 받기 완료\n",
      "이미지 파일:little-crab-on-the-rocky-shore-free-photo-1080x720.jpg 받기 완료\n",
      "이미지 파일:walking-cute-yorkshire-terrier-free-photo-1080x640.jpg 받기 완료\n",
      "==================================================\n",
      "이미지 받기 완료!!!\n"
     ]
    }
   ],
   "source": [
    "url = 'https://picjumbo.com/free-stock-photos/animals/'\n",
    "figure_folder = 'download'\n",
    "picjumbo_image_urls = get_image_url(url)\n",
    "print(len(picjumbo_image_urls))\n",
    "for k in range(3):\n",
    "    dowmload_image(figure_folder, picjumbo_image_urls[k])\n",
    "    \n",
    "print('=' * 50)\n",
    "print(\"이미지 받기 완료!!!\")"
   ]
  },
  {
   "cell_type": "markdown",
   "id": "36d34d46",
   "metadata": {},
   "source": [
    "너무 지저분하므로 깔끔하게 만들기\\\n",
    "-> tqdm 이용\\\n",
    "     - 전체 양과 진행사항을 알 수 있으므로 기다리는 시간을 예측할 수 있고,\\\n",
    "         진행사항을 확인할 수 있다\n",
    "아나콘다 설치 : conda install tqdm"
   ]
  },
  {
   "cell_type": "code",
   "execution_count": 127,
   "id": "84ecdd07",
   "metadata": {},
   "outputs": [
    {
     "name": "stdout",
     "output_type": "stream",
     "text": [
      "22\n"
     ]
    },
    {
     "data": {
      "application/vnd.jupyter.widget-view+json": {
       "model_id": "714ebc7e5f4c4eff82ca47c887524040",
       "version_major": 2,
       "version_minor": 0
      },
      "text/plain": [
       "  0%|          | 0/22 [00:00<?, ?it/s]"
      ]
     },
     "metadata": {},
     "output_type": "display_data"
    },
    {
     "name": "stdout",
     "output_type": "stream",
     "text": [
      "이미지 파일:masked-crab-on-a-rocky-shore-free-photo-1080x586.jpg 받기 완료\n",
      "이미지 파일:little-crab-on-the-rocky-shore-free-photo-1080x720.jpg 받기 완료\n",
      "이미지 파일:walking-cute-yorkshire-terrier-free-photo-1080x640.jpg 받기 완료\n",
      "이미지 파일:perfectly-masked-crab-on-a-rock-free-photo-1080x720.jpg 받기 완료\n",
      "이미지 파일:husky-dog-on-a-frozen-lake-free-photo-1080x1620.jpg 받기 완료\n",
      "이미지 파일:mountain-ridge-with-tiny-dog-silhouette-free-photo-1080x1440.jpg 받기 완료\n",
      "이미지 파일:a-dog-lying-on-a-large-pillow-in-the-bed-1080x1620.jpg 받기 완료\n",
      "이미지 파일:corn-snake-close-up-1080x720.jpg 받기 완료\n",
      "이미지 파일:snake-slithering-on-the-leaf-1080x720.jpg 받기 완료\n",
      "이미지 파일:herd-of-deers-on-a-pasture-1080x1359.jpg 받기 완료\n",
      "이미지 파일:snake-and-yellow-rose-1080x720.jpg 받기 완료\n",
      "이미지 파일:deer-hind-on-a-green-pasture-1080x1307.jpg 받기 완료\n",
      "이미지 파일:sleeping-ginger-cat-1080x720.jpg 받기 완료\n",
      "이미지 파일:resting-bulls-and-cows-on-the-grass-1080x720.jpg 받기 완료\n",
      "이미지 파일:snake-in-a-hand-1080x720.jpg 받기 완료\n",
      "이미지 파일:cute-red-cat-sleeping-on-the-wood-1080x720.jpg 받기 완료\n",
      "이미지 파일:mouflon-on-the-grass-1080x600.jpg 받기 완료\n",
      "이미지 파일:cows-grazing-in-the-dolomites-free-photo-1080x720.jpg 받기 완료\n",
      "이미지 파일:european-mouflon-walking-on-green-grass-1080x720.jpg 받기 완료\n",
      "이미지 파일:cows-grazing-on-fresh-green-pastures-free-photo-1080x720.jpg 받기 완료\n",
      "이미지 파일:little-corn-snake-1080x720.jpg 받기 완료\n",
      "이미지 파일:grazing-cow-near-church-of-st-john-in-ranui-italy-free-photo-1080x1620.jpg 받기 완료\n",
      "==================================================\n",
      "이미지 받기 완료!!!\n"
     ]
    }
   ],
   "source": [
    "from tqdm.notebook import tqdm\n",
    "\n",
    "url = 'https://picjumbo.com/free-stock-photos/animals/'\n",
    "figure_folder = 'download'\n",
    "picjumbo_image_urls = get_image_url(url)\n",
    "print(len(picjumbo_image_urls))\n",
    "for k in tqdm(range(len(picjumbo_image_urls))):\n",
    "    dowmload_image(figure_folder, picjumbo_image_urls[k])\n",
    "    \n",
    "print('=' * 50)\n",
    "print(\"이미지 받기 완료!!!\")"
   ]
  },
  {
   "cell_type": "code",
   "execution_count": null,
   "id": "231e9942",
   "metadata": {},
   "outputs": [],
   "source": []
  }
 ],
 "metadata": {
  "kernelspec": {
   "display_name": "Python 3",
   "language": "python",
   "name": "python3"
  },
  "language_info": {
   "codemirror_mode": {
    "name": "ipython",
    "version": 3
   },
   "file_extension": ".py",
   "mimetype": "text/x-python",
   "name": "python",
   "nbconvert_exporter": "python",
   "pygments_lexer": "ipython3",
   "version": "3.8.8"
  }
 },
 "nbformat": 4,
 "nbformat_minor": 5
}
