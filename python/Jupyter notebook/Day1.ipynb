{
 "cells": [
  {
   "cell_type": "code",
   "execution_count": 1,
   "id": "e1204350",
   "metadata": {},
   "outputs": [],
   "source": [
    "a = 10\n",
    "print(a)"
   ]
  },
  {
   "cell_type": "code",
   "execution_count": 2,
   "id": "274e2d95",
   "metadata": {},
   "outputs": [],
   "source": [
    "a= 10 \n",
    "print(a)"
   ]
  },
  {
   "cell_type": "code",
   "execution_count": 3,
   "id": "5954c6b7",
   "metadata": {},
   "outputs": [],
   "source": [
    "b=6.7\n",
    "print(type(b))"
   ]
  },
  {
   "cell_type": "code",
   "execution_count": 4,
   "id": "726358f7",
   "metadata": {},
   "outputs": [],
   "source": [
    "cities = ['서울','부산','인천','대구','대전','광주',\\\n",
    "         '울산','수원']"
   ]
  },
  {
   "cell_type": "code",
   "execution_count": 7,
   "id": "3d41c7a2",
   "metadata": {},
   "outputs": [
    {
     "name": "stdout",
     "output_type": "stream",
     "text": [
      "['서울', '부산', '인천', '대구', '대전', '광주', '울산', '수원']\n"
     ]
    }
   ],
   "source": [
    "print(cities)"
   ]
  },
  {
   "cell_type": "code",
   "execution_count": 9,
   "id": "3a784b9c",
   "metadata": {},
   "outputs": [],
   "source": [
    "color2 = ['orange','black','white']"
   ]
  },
  {
   "cell_type": "code",
   "execution_count": 10,
   "id": "2afe1ada",
   "metadata": {},
   "outputs": [
    {
     "name": "stdout",
     "output_type": "stream",
     "text": [
      "['orange', 'black', 'white']\n"
     ]
    }
   ],
   "source": [
    "print(color2)"
   ]
  },
  {
   "cell_type": "code",
   "execution_count": 11,
   "id": "70c8f1b5",
   "metadata": {},
   "outputs": [],
   "source": [
    "color2.insert(2, 'purple')"
   ]
  },
  {
   "cell_type": "code",
   "execution_count": 12,
   "id": "f17b707b",
   "metadata": {},
   "outputs": [
    {
     "name": "stdout",
     "output_type": "stream",
     "text": [
      "['orange', 'black', 'purple', 'white']\n"
     ]
    }
   ],
   "source": [
    "print(color2)"
   ]
  },
  {
   "cell_type": "code",
   "execution_count": 14,
   "id": "00d2151f",
   "metadata": {},
   "outputs": [
    {
     "name": "stdout",
     "output_type": "stream",
     "text": [
      "['orange', 'black', 'white']\n"
     ]
    }
   ],
   "source": [
    "color2.remove('purple')\n",
    "print(color2)"
   ]
  },
  {
   "cell_type": "code",
   "execution_count": 17,
   "id": "57fdab2c",
   "metadata": {},
   "outputs": [],
   "source": [
    "appetizer = ['egg','salad','braed','soup','canape']\n",
    "main_dish = ['fish', 'lamb', 'pork','beef','chicken']\n",
    "dessert = ['apple','ice cream', 'pudding','cookies','cake']\n",
    "\n",
    "order = [appetizer, main_dish, dessert]\n",
    "jane = [order[0][:-2], main_dish[1::3], dessert[1]]\n",
    "del jane[2]\n",
    "jane.extend([order[2][0:1]])"
   ]
  },
  {
   "cell_type": "code",
   "execution_count": 18,
   "id": "df99a0ee",
   "metadata": {},
   "outputs": [
    {
     "name": "stdout",
     "output_type": "stream",
     "text": [
      "[['egg', 'salad', 'braed'], ['lamb', 'chicken'], ['apple']]\n"
     ]
    }
   ],
   "source": [
    "print(jane)"
   ]
  },
  {
   "cell_type": "code",
   "execution_count": 19,
   "id": "525d0d11",
   "metadata": {},
   "outputs": [
    {
     "name": "stdout",
     "output_type": "stream",
     "text": [
      "Tell my your age?31\n",
      "Oh! No, you are not accepted.\n"
     ]
    }
   ],
   "source": [
    "my_age = int(input('Tell my your age?'))\n",
    "if my_age < 30:\n",
    "    print('Welcome to the club')\n",
    "else:\n",
    "    print(\"Oh! No, you are not accepted.\")"
   ]
  },
  {
   "cell_type": "code",
   "execution_count": 23,
   "id": "44d79a83",
   "metadata": {},
   "outputs": [
    {
     "name": "stdout",
     "output_type": "stream",
     "text": [
      "Enter your score:80\n",
      "B\n"
     ]
    }
   ],
   "source": [
    "score = int(input('Enter your score:'))\n",
    "if score >= 90:\n",
    "    grade = 'A'\n",
    "elif score >= 80:\n",
    "    grade = 'B'\n",
    "elif score >= 70:\n",
    "    grade = 'C'\n",
    "elif score >= 60:\n",
    "    grade = 'D'\n",
    "else:\n",
    "    grade = 'F'\n",
    "    \n",
    "print(grade)"
   ]
  },
  {
   "cell_type": "code",
   "execution_count": 24,
   "id": "53af4df8",
   "metadata": {},
   "outputs": [
    {
     "name": "stdout",
     "output_type": "stream",
     "text": [
      "100\n"
     ]
    }
   ],
   "source": [
    "a = 10\n",
    "b = a * 10 if  a % 2 == 0 else a +10\n",
    "print(b)"
   ]
  },
  {
   "cell_type": "code",
   "execution_count": 26,
   "id": "0a883117",
   "metadata": {},
   "outputs": [
    {
     "name": "stdout",
     "output_type": "stream",
     "text": [
      "No. 1\n",
      "No. 2\n",
      "No. 3\n",
      "No. 4\n",
      "No. 5\n"
     ]
    }
   ],
   "source": [
    "for n in [1,2,3,4,5]:\n",
    "    print ('No.', n )"
   ]
  },
  {
   "cell_type": "code",
   "execution_count": 27,
   "id": "fd6c35ba",
   "metadata": {},
   "outputs": [
    {
     "name": "stdout",
     "output_type": "stream",
     "text": [
      "No. 0\n",
      "No. 1\n",
      "No. 2\n",
      "No. 3\n",
      "No. 4\n"
     ]
    }
   ],
   "source": [
    "for n in range(5):\n",
    "    print('No.',n)"
   ]
  },
  {
   "cell_type": "code",
   "execution_count": 28,
   "id": "6feb74fc",
   "metadata": {},
   "outputs": [
    {
     "name": "stdout",
     "output_type": "stream",
     "text": [
      "a\n",
      "b\n",
      "c\n",
      "d\n",
      "e\n",
      "f\n",
      "g\n"
     ]
    }
   ],
   "source": [
    "for n in 'abcdefg':\n",
    "    print(n)"
   ]
  },
  {
   "cell_type": "code",
   "execution_count": 32,
   "id": "9fa63cec",
   "metadata": {},
   "outputs": [
    {
     "name": "stdout",
     "output_type": "stream",
     "text": [
      "b\n",
      "a\n",
      "n\n",
      "a\n",
      "n\n",
      "a\n",
      "\n",
      "p\n",
      "i\n",
      "n\n",
      "e\n",
      "a\n",
      "p\n",
      "p\n",
      "l\n",
      "e\n",
      "\n",
      "m\n",
      "a\n",
      "n\n",
      "g\n",
      "o\n",
      "\n"
     ]
    }
   ],
   "source": [
    "for n in ['banana','pineapple','mango']:\n",
    "    for k in n:\n",
    "        print(k)\n",
    "    print()"
   ]
  },
  {
   "cell_type": "code",
   "execution_count": 33,
   "id": "c834712b",
   "metadata": {},
   "outputs": [
    {
     "name": "stdout",
     "output_type": "stream",
     "text": [
      "banana\n",
      "pineapple\n",
      "mango\n"
     ]
    }
   ],
   "source": [
    "for n in ['banana','pineapple','mango']:\n",
    "    for k in n:\n",
    "        print(k, end='')\n",
    "    print()"
   ]
  },
  {
   "cell_type": "code",
   "execution_count": 34,
   "id": "4bc21a9e",
   "metadata": {},
   "outputs": [
    {
     "name": "stdout",
     "output_type": "stream",
     "text": [
      "1\n",
      "2\n",
      "3\n",
      "4\n",
      "5\n",
      "6\n",
      "7\n",
      "8\n",
      "9\n"
     ]
    }
   ],
   "source": [
    "i = 1\n",
    "while i <10:\n",
    "    print(i)\n",
    "    i += 1"
   ]
  },
  {
   "cell_type": "code",
   "execution_count": 35,
   "id": "644bafa7",
   "metadata": {},
   "outputs": [
    {
     "name": "stdout",
     "output_type": "stream",
     "text": [
      "0\n",
      "1\n",
      "2\n",
      "3\n",
      "4\n",
      "End of program\n"
     ]
    }
   ],
   "source": [
    "for i in range(10):\n",
    "    if i == 5:\n",
    "        break\n",
    "    print(i)\n",
    "\n",
    "print('End of program')"
   ]
  },
  {
   "cell_type": "code",
   "execution_count": 36,
   "id": "cd1f63d7",
   "metadata": {},
   "outputs": [
    {
     "name": "stdout",
     "output_type": "stream",
     "text": [
      "0\n",
      "1\n",
      "2\n",
      "3\n",
      "4\n",
      "6\n",
      "7\n",
      "8\n",
      "9\n",
      "End of program\n"
     ]
    }
   ],
   "source": [
    "for i in range(10):\n",
    "    if i == 5:\n",
    "        continue\n",
    "    print(i)\n",
    "\n",
    "print('End of program')"
   ]
  },
  {
   "cell_type": "code",
   "execution_count": 38,
   "id": "0f64213b",
   "metadata": {},
   "outputs": [
    {
     "name": "stdout",
     "output_type": "stream",
     "text": [
      "0\n",
      "1\n",
      "2\n",
      "3\n",
      "4\n",
      "5\n",
      "6\n",
      "7\n",
      "8\n",
      "9\n",
      "End of program\n"
     ]
    }
   ],
   "source": [
    "for i in range(10):\n",
    "    print(i)\n",
    "else:\n",
    "    print('End of program')"
   ]
  },
  {
   "cell_type": "code",
   "execution_count": 40,
   "id": "56ba7f95",
   "metadata": {},
   "outputs": [
    {
     "name": "stdout",
     "output_type": "stream",
     "text": [
      "0\n",
      "1\n",
      "2\n",
      "3\n",
      "4\n"
     ]
    }
   ],
   "source": [
    "for i in range(10):\n",
    "    if i == 5: break\n",
    "    print(i)\n",
    "else:\n",
    "    print('End of program')"
   ]
  },
  {
   "cell_type": "code",
   "execution_count": 57,
   "id": "af39ecf8",
   "metadata": {},
   "outputs": [
    {
     "name": "stdout",
     "output_type": "stream",
     "text": [
      "몇단? 3\n",
      "3 x 1 3\n",
      "3 x 2 6\n",
      "3 x 3 9\n",
      "3 x 4 12\n",
      "3 x 5 15\n",
      "3 x 6 18\n",
      "3 x 7 21\n",
      "3 x 8 24\n",
      "3 x 9 27\n"
     ]
    }
   ],
   "source": [
    "n = int(input('몇단? '))\n",
    "for i in range(1,10):\n",
    "    print(n,\"x\",i, n*i)\n",
    "    "
   ]
  },
  {
   "cell_type": "code",
   "execution_count": 61,
   "id": "3107c75e",
   "metadata": {},
   "outputs": [
    {
     "name": "stdout",
     "output_type": "stream",
     "text": [
      "몇단? \n",
      "4\n",
      "구구단 4 단 계산\n",
      "4 x 1 = 4\n",
      "4 x 2 = 8\n",
      "4 x 3 = 12\n",
      "4 x 4 = 16\n",
      "4 x 5 = 20\n",
      "4 x 6 = 24\n",
      "4 x 7 = 28\n",
      "4 x 8 = 32\n",
      "4 x 9 = 36\n"
     ]
    }
   ],
   "source": [
    "print(\"몇단? \")\n",
    "dan = input()\n",
    "print(\"구구단\", dan, \"단 계산\")\n",
    "int_dan = int(dan)\n",
    "for i in range(1,10):\n",
    "    result = int_dan * i\n",
    "    print(dan, 'x', i, '=', result)"
   ]
  },
  {
   "cell_type": "code",
   "execution_count": 74,
   "id": "e82d567c",
   "metadata": {},
   "outputs": [
    {
     "name": "stdout",
     "output_type": "stream",
     "text": [
      "uoy evol I\n"
     ]
    }
   ],
   "source": [
    "sentence ='I love you'\n",
    "reverse_sentence = \"\"\n",
    "for c in sentence:\n",
    "   reverse_sentence = c + reverse_sentence\n",
    "print(reverse_sentence)"
   ]
  },
  {
   "cell_type": "code",
   "execution_count": 75,
   "id": "3060abb1",
   "metadata": {},
   "outputs": [],
   "source": [
    "#def 함수 이름 (인자1, 인자2,... 옵션):\n",
    "# -> 실행문2\n",
    "# -> 실행문2\n",
    "# -> return 반환값(옵션)"
   ]
  },
  {
   "cell_type": "code",
   "execution_count": 87,
   "id": "e0b3f23d",
   "metadata": {},
   "outputs": [],
   "source": [
    "def calculate_rectangle_area(x,y):\n",
    "    return x * y"
   ]
  },
  {
   "cell_type": "code",
   "execution_count": 88,
   "id": "3f8f07c0",
   "metadata": {},
   "outputs": [
    {
     "name": "stdout",
     "output_type": "stream",
     "text": [
      "10\n",
      "20\n",
      "사각형 넓이: 200\n"
     ]
    }
   ],
   "source": [
    "rectangle_x =10\n",
    "rectangle_y = 20\n",
    "print(rectangle_x)\n",
    "print(rectangle_y)\n",
    "print('사각형 넓이:', \\\n",
    "     calculate_rectangle_area(rectangle_x, rectangle_y))"
   ]
  },
  {
   "cell_type": "code",
   "execution_count": 98,
   "id": "d9c2a009",
   "metadata": {},
   "outputs": [],
   "source": [
    "def func1(x):\n",
    "    x += 1\n",
    "    print=(\"func1의 x:\",x)"
   ]
  },
  {
   "cell_type": "code",
   "execution_count": 99,
   "id": "59c66634",
   "metadata": {},
   "outputs": [
    {
     "name": "stdout",
     "output_type": "stream",
     "text": [
      "메인의 x: 10\n"
     ]
    }
   ],
   "source": [
    "x = 10\n",
    "func1(x)\n",
    "print(\"메인의 x:\", x)"
   ]
  },
  {
   "cell_type": "code",
   "execution_count": 100,
   "id": "c048aeff",
   "metadata": {},
   "outputs": [
    {
     "name": "stdout",
     "output_type": "stream",
     "text": [
      "['melone', 'apple', 'banana']\n"
     ]
    }
   ],
   "source": [
    "#call-by-reference\n",
    "fruits = ['melone','apple','banana']\n",
    "my_bag = fruits\n",
    "print(fruits)"
   ]
  },
  {
   "cell_type": "code",
   "execution_count": 101,
   "id": "932ad963",
   "metadata": {},
   "outputs": [
    {
     "name": "stdout",
     "output_type": "stream",
     "text": [
      "['melone', 'apple', 'banana']\n"
     ]
    }
   ],
   "source": [
    "print(my_bag)"
   ]
  },
  {
   "cell_type": "code",
   "execution_count": 102,
   "id": "72297996",
   "metadata": {},
   "outputs": [
    {
     "name": "stdout",
     "output_type": "stream",
     "text": [
      "['apple', 'banana', 'melone']\n",
      "['apple', 'banana', 'melone']\n"
     ]
    }
   ],
   "source": [
    "my_bag.sort()\n",
    "print(fruits)\n",
    "print(my_bag)"
   ]
  },
  {
   "cell_type": "code",
   "execution_count": 103,
   "id": "dd85e1d6",
   "metadata": {},
   "outputs": [],
   "source": [
    "def shopping_cart(goods):\n",
    "    goods.append('coupon')\n",
    "    goods = [1,2]\n",
    "    print('In shooping_cart: ',goods)"
   ]
  },
  {
   "cell_type": "code",
   "execution_count": 106,
   "id": "ba905b16",
   "metadata": {},
   "outputs": [
    {
     "name": "stdout",
     "output_type": "stream",
     "text": [
      "In shooping_cart:  [1, 2]\n",
      "Goods I bought:  ['bean', 'salt', 'beef', 'coupon']\n"
     ]
    }
   ],
   "source": [
    "shooping_list = ['bean', 'salt','beef']\n",
    "shopping_cart(shooping_list)\n",
    "print('Goods I bought: ', shooping_list)"
   ]
  },
  {
   "cell_type": "code",
   "execution_count": 107,
   "id": "9d9e9b22",
   "metadata": {},
   "outputs": [],
   "source": [
    "def test(x):\n",
    "    print(x)\n",
    "    t = 20\n",
    "    print(\"In test t, a:\", t, a)"
   ]
  },
  {
   "cell_type": "code",
   "execution_count": 108,
   "id": "c548b598",
   "metadata": {},
   "outputs": [
    {
     "name": "stdout",
     "output_type": "stream",
     "text": [
      "10\n",
      "In test t, a: 20 10\n",
      "In main a: 10\n"
     ]
    }
   ],
   "source": [
    "a = 10\n",
    "test(a)\n",
    "print(\"In main a:\", a)"
   ]
  },
  {
   "cell_type": "code",
   "execution_count": null,
   "id": "ec95a474",
   "metadata": {},
   "outputs": [],
   "source": []
  },
  {
   "cell_type": "code",
   "execution_count": 109,
   "id": "9970e877",
   "metadata": {},
   "outputs": [],
   "source": [
    "def test(x):\n",
    "    print(x)\n",
    "    t = 20\n",
    "    a = 300\n",
    "    print(\"In test t, a:\", t, a)"
   ]
  },
  {
   "cell_type": "code",
   "execution_count": 110,
   "id": "76309233",
   "metadata": {},
   "outputs": [
    {
     "name": "stdout",
     "output_type": "stream",
     "text": [
      "10\n",
      "In test t, a: 20 300\n",
      "In main a: 10\n"
     ]
    },
    {
     "ename": "NameError",
     "evalue": "name 't' is not defined",
     "output_type": "error",
     "traceback": [
      "\u001b[0;31m---------------------------------------------------------------------------\u001b[0m",
      "\u001b[0;31mNameError\u001b[0m                                 Traceback (most recent call last)",
      "\u001b[0;32m<ipython-input-110-1ba7558d7de0>\u001b[0m in \u001b[0;36m<module>\u001b[0;34m\u001b[0m\n\u001b[1;32m      2\u001b[0m \u001b[0mtest\u001b[0m\u001b[0;34m(\u001b[0m\u001b[0ma\u001b[0m\u001b[0;34m)\u001b[0m\u001b[0;34m\u001b[0m\u001b[0;34m\u001b[0m\u001b[0m\n\u001b[1;32m      3\u001b[0m \u001b[0mprint\u001b[0m\u001b[0;34m(\u001b[0m\u001b[0;34m\"In main a:\"\u001b[0m\u001b[0;34m,\u001b[0m \u001b[0ma\u001b[0m\u001b[0;34m)\u001b[0m\u001b[0;34m\u001b[0m\u001b[0;34m\u001b[0m\u001b[0m\n\u001b[0;32m----> 4\u001b[0;31m \u001b[0mprint\u001b[0m\u001b[0;34m(\u001b[0m\u001b[0;34m\"In main t:\"\u001b[0m\u001b[0;34m,\u001b[0m \u001b[0mt\u001b[0m\u001b[0;34m)\u001b[0m\u001b[0;34m\u001b[0m\u001b[0;34m\u001b[0m\u001b[0m\n\u001b[0m",
      "\u001b[0;31mNameError\u001b[0m: name 't' is not defined"
     ]
    }
   ],
   "source": [
    "a = 10\n",
    "test(a)\n",
    "print(\"In main a:\", a)\n",
    "print(\"In main t:\", t)"
   ]
  },
  {
   "cell_type": "code",
   "execution_count": 113,
   "id": "595ecea7",
   "metadata": {},
   "outputs": [],
   "source": [
    "def f():\n",
    "    s = 'I love Doosan!'\n",
    "    print(s)"
   ]
  },
  {
   "cell_type": "code",
   "execution_count": 114,
   "id": "fee831b8",
   "metadata": {},
   "outputs": [
    {
     "name": "stdout",
     "output_type": "stream",
     "text": [
      "I love Doosan!\n",
      "I love Hanhwa!\n"
     ]
    }
   ],
   "source": [
    "s = 'I love Hanhwa!'\n",
    "f()\n",
    "print(s)"
   ]
  },
  {
   "cell_type": "code",
   "execution_count": 116,
   "id": "74097c8a",
   "metadata": {},
   "outputs": [],
   "source": [
    "def f():\n",
    "    global s \n",
    "    s = 'I love Doosan!'\n",
    "    # s를 지역변수에 한하지 않고 글로벌로 쓸 수 있는 방법\n",
    "    print(s)"
   ]
  },
  {
   "cell_type": "code",
   "execution_count": 117,
   "id": "39b1a14d",
   "metadata": {},
   "outputs": [
    {
     "name": "stdout",
     "output_type": "stream",
     "text": [
      "I love Doosan!\n",
      "I love Doosan!\n"
     ]
    }
   ],
   "source": [
    "s = 'I love Hanhwa!'\n",
    "f()\n",
    "print(s)"
   ]
  },
  {
   "cell_type": "code",
   "execution_count": 119,
   "id": "21777399",
   "metadata": {},
   "outputs": [],
   "source": [
    "def calculate(x, y):\n",
    "    total = x + y\n",
    "    print(\"In Function\")\n",
    "    print(\"a:\", str(a), \"b:\", str(b), \"a + b:\", str(a+b), \"total:\", str(total))\n",
    "    return total"
   ]
  },
  {
   "cell_type": "code",
   "execution_count": 120,
   "id": "6826a135",
   "metadata": {},
   "outputs": [
    {
     "name": "stdout",
     "output_type": "stream",
     "text": [
      "In Main\n",
      "a: 5 b: 7 a + b: 12\n"
     ]
    }
   ],
   "source": [
    "a = 5\n",
    "b = 7\n",
    "total = 0\n",
    "print(\"In Main\")\n",
    "print(\"a:\", str(a), \"b:\", str(b), \"a + b:\", str(a+b))"
   ]
  },
  {
   "cell_type": "code",
   "execution_count": 121,
   "id": "50e3a4a2",
   "metadata": {},
   "outputs": [
    {
     "name": "stdout",
     "output_type": "stream",
     "text": [
      "In Function\n",
      "a: 5 b: 7 a + b: 12 total: 12\n",
      "After Calculation\n",
      "Total: 0 Sum: 12\n"
     ]
    }
   ],
   "source": [
    "sum = calculate(a, b)\n",
    "print(\"After Calculation\")\n",
    "print(\"Total:\", str(total), \"Sum:\", str(sum))"
   ]
  },
  {
   "cell_type": "code",
   "execution_count": 122,
   "id": "f61ae1a2",
   "metadata": {},
   "outputs": [],
   "source": [
    "def print_name(my_name, your_name):\n",
    "    print(\"Hello {0}, My name is {1}\".format(your_name, my_name))"
   ]
  },
  {
   "cell_type": "code",
   "execution_count": 123,
   "id": "6efb148b",
   "metadata": {},
   "outputs": [
    {
     "name": "stdout",
     "output_type": "stream",
     "text": [
      "Hello jane, My name is Tom\n"
     ]
    }
   ],
   "source": [
    "print_name(\"Tom\",\"jane\")\n"
   ]
  },
  {
   "cell_type": "code",
   "execution_count": 124,
   "id": "5f14ee8b",
   "metadata": {},
   "outputs": [
    {
     "name": "stdout",
     "output_type": "stream",
     "text": [
      "Hello jane, My name is Tom\n"
     ]
    }
   ],
   "source": [
    "print_name(your_name=\"jane\", my_name=\"Tom\")"
   ]
  },
  {
   "cell_type": "code",
   "execution_count": 125,
   "id": "1fbbaf43",
   "metadata": {},
   "outputs": [],
   "source": [
    "def print_name(my_name, your_name='Jane'):\n",
    "    print(\"Hello {0}, My name is {1}\".format(your_name, my_name))"
   ]
  },
  {
   "cell_type": "code",
   "execution_count": 126,
   "id": "99b3f846",
   "metadata": {},
   "outputs": [
    {
     "name": "stdout",
     "output_type": "stream",
     "text": [
      "Hello Jane, My name is Tom\n"
     ]
    }
   ],
   "source": [
    "print_name(\"Tom\", 'Jane')"
   ]
  },
  {
   "cell_type": "code",
   "execution_count": 127,
   "id": "6286ea19",
   "metadata": {},
   "outputs": [
    {
     "name": "stdout",
     "output_type": "stream",
     "text": [
      "Hello Jane, My name is Tom\n"
     ]
    }
   ],
   "source": [
    "print_name(\"Tom\")"
   ]
  },
  {
   "cell_type": "code",
   "execution_count": 129,
   "id": "db4b9b61",
   "metadata": {},
   "outputs": [
    {
     "name": "stdout",
     "output_type": "stream",
     "text": [
      "a b c\n"
     ]
    }
   ],
   "source": [
    "print(\"a\",\"b\",\"c\")"
   ]
  },
  {
   "cell_type": "code",
   "execution_count": 132,
   "id": "c2cd63fd",
   "metadata": {},
   "outputs": [],
   "source": [
    "def variable_length(a, b, *args):\n",
    "    # args 에 별을 붙이면 이것은 packing 변수로 선언하는 것-> 튜플로 나온다 \n",
    "    print(a) \n",
    "    print(b)\n",
    "    print(args)"
   ]
  },
  {
   "cell_type": "code",
   "execution_count": 133,
   "id": "f64346ef",
   "metadata": {},
   "outputs": [
    {
     "name": "stdout",
     "output_type": "stream",
     "text": [
      "1\n",
      "2\n",
      "(3, 4, 5)\n"
     ]
    }
   ],
   "source": [
    "variable_length(1,2,3,4,5)"
   ]
  },
  {
   "cell_type": "code",
   "execution_count": 135,
   "id": "2f9ed2b1",
   "metadata": {},
   "outputs": [],
   "source": [
    "def variable_length(a, b, *args):\n",
    "    # args 을 unpacking 하는 과정 \n",
    "    print(a) \n",
    "    print(b)\n",
    "    c,d,e = args\n",
    "    print(c,d,e)"
   ]
  },
  {
   "cell_type": "code",
   "execution_count": 136,
   "id": "33996fe6",
   "metadata": {},
   "outputs": [
    {
     "name": "stdout",
     "output_type": "stream",
     "text": [
      "1\n",
      "2\n",
      "3 4 5\n"
     ]
    }
   ],
   "source": [
    "variable_length(1,2,3,4,5)"
   ]
  },
  {
   "cell_type": "code",
   "execution_count": 138,
   "id": "39ea1d65",
   "metadata": {},
   "outputs": [
    {
     "name": "stdout",
     "output_type": "stream",
     "text": [
      "BLACKI LIVES MATTER\n",
      "blacki lives matter\n",
      "Blacki Lives Matter\n",
      "Blacki lives matter\n",
      "2\n",
      "True\n",
      "True\n"
     ]
    }
   ],
   "source": [
    "s = \"BLACKI LIVES MATTER\"\n",
    "print(s.upper()) # 모두 대문자로\n",
    "print(s.lower()) # 모두 소문자로\n",
    "print(s.title()) # 단어들의 첫글자만 대문자로 \n",
    "print(s.capitalize()) #시작글자만 대문자로 바꾼것 \n",
    "print(s.count(\"T\"))\n",
    "print(s.startswith(\"B\"))\n",
    "\n",
    "k = \"123\"\n",
    "print(k.isdigit())"
   ]
  },
  {
   "cell_type": "code",
   "execution_count": 140,
   "id": "95866c53",
   "metadata": {},
   "outputs": [
    {
     "name": "stdout",
     "output_type": "stream",
     "text": [
      "1 2 3\n",
      "1 2 3\n",
      "abc--def--ghi\n",
      "abc def ghi\n",
      "def abc ghi\n",
      "def abc ghi\n",
      "    python\n",
      "python    \n",
      "    python\n",
      "python    \n"
     ]
    }
   ],
   "source": [
    "print(1,2,3)\n",
    "print(\"%d %d %d\" %(1,2,3))\n",
    "print(\"%s--%s--%s\" %('abc','def','ghi'))\n",
    "print(\"{} {} {}\".format('abc','def','ghi'))\n",
    "print(\"{1} {0} {2}\".format('abc', 'def','ghi'))\n",
    "print(f\"{'def'} {'abc'} {'ghi'}\")\n",
    "print(\"{0:>10s}\".format('python'))\n",
    "print(\"{0:<10s}\".format('python'))\n",
    "print(f\"{'python':>10s}\")\n",
    "print(f\"{'python':<10s}\")"
   ]
  },
  {
   "cell_type": "code",
   "execution_count": 143,
   "id": "ca31ee5a",
   "metadata": {},
   "outputs": [
    {
     "name": "stdout",
     "output_type": "stream",
     "text": [
      "['zero', 'one', 'two', 'three']\n"
     ]
    }
   ],
   "source": [
    "items = 'zero one two three'.split()\n",
    "print(items)"
   ]
  },
  {
   "cell_type": "code",
   "execution_count": 144,
   "id": "97927bee",
   "metadata": {},
   "outputs": [
    {
     "name": "stdout",
     "output_type": "stream",
     "text": [
      "['python', 'javascript', 'sql']\n"
     ]
    }
   ],
   "source": [
    "examples = 'python,javascript,sql'\n",
    "print(examples.split(','))"
   ]
  },
  {
   "cell_type": "code",
   "execution_count": 145,
   "id": "629af560",
   "metadata": {},
   "outputs": [
    {
     "name": "stdout",
     "output_type": "stream",
     "text": [
      "python javascript sql\n"
     ]
    }
   ],
   "source": [
    "a, b, c = examples.split(',')\n",
    "print(a,b,c,)"
   ]
  },
  {
   "cell_type": "code",
   "execution_count": 149,
   "id": "87da2d61",
   "metadata": {},
   "outputs": [
    {
     "name": "stdout",
     "output_type": "stream",
     "text": [
      "redbluegreenyellow\n"
     ]
    }
   ],
   "source": [
    "colors = ['red','blue','green','yellow']\n",
    "result = '' .join(colors)\n",
    "print(result)"
   ]
  },
  {
   "cell_type": "code",
   "execution_count": null,
   "id": "122de5d3",
   "metadata": {},
   "outputs": [],
   "source": [
    "colors = ['red','blue','green','yellow']\n",
    "result = ''  .join(colors)\n",
    "print(result)"
   ]
  },
  {
   "cell_type": "code",
   "execution_count": 150,
   "id": "903c0d8f",
   "metadata": {},
   "outputs": [
    {
     "name": "stdout",
     "output_type": "stream",
     "text": [
      "red,blue,green,yellow\n"
     ]
    }
   ],
   "source": [
    "colors = ['red','blue','green','yellow']\n",
    "result = ',' .join(colors)\n",
    "print(result)"
   ]
  },
  {
   "cell_type": "code",
   "execution_count": 151,
   "id": "eb8490af",
   "metadata": {},
   "outputs": [
    {
     "name": "stdout",
     "output_type": "stream",
     "text": [
      "red-blue-green-yellow\n"
     ]
    }
   ],
   "source": [
    "colors = ['red','blue','green','yellow']\n",
    "result = '-' .join(colors)\n",
    "print(result)"
   ]
  },
  {
   "cell_type": "code",
   "execution_count": 152,
   "id": "76806e01",
   "metadata": {},
   "outputs": [
    {
     "ename": "NameError",
     "evalue": "name 'shar' is not defined",
     "output_type": "error",
     "traceback": [
      "\u001b[0;31m---------------------------------------------------------------------------\u001b[0m",
      "\u001b[0;31mNameError\u001b[0m                                 Traceback (most recent call last)",
      "\u001b[0;32m<ipython-input-152-d3a01ea6ac7f>\u001b[0m in \u001b[0;36m<module>\u001b[0;34m\u001b[0m\n\u001b[1;32m      2\u001b[0m \u001b[0mreserse_sentens\u001b[0m \u001b[0;34m=\u001b[0m \u001b[0;34m''\u001b[0m\u001b[0;34m\u001b[0m\u001b[0;34m\u001b[0m\u001b[0m\n\u001b[1;32m      3\u001b[0m \u001b[0;32mfor\u001b[0m \u001b[0mchar\u001b[0m \u001b[0;32min\u001b[0m \u001b[0msentence\u001b[0m\u001b[0;34m:\u001b[0m\u001b[0;34m\u001b[0m\u001b[0;34m\u001b[0m\u001b[0m\n\u001b[0;32m----> 4\u001b[0;31m     \u001b[0mreserse_sentence\u001b[0m \u001b[0;34m=\u001b[0m\u001b[0mshar\u001b[0m \u001b[0;34m+\u001b[0m\u001b[0mreverser_sentence\u001b[0m\u001b[0;34m\u001b[0m\u001b[0;34m\u001b[0m\u001b[0m\n\u001b[0m\u001b[1;32m      5\u001b[0m \u001b[0mprint\u001b[0m\u001b[0;34m(\u001b[0m\u001b[0mreverse_sentence\u001b[0m\u001b[0;34m)\u001b[0m\u001b[0;34m\u001b[0m\u001b[0;34m\u001b[0m\u001b[0m\n",
      "\u001b[0;31mNameError\u001b[0m: name 'shar' is not defined"
     ]
    }
   ],
   "source": [
    "setens = 'I love you'\n",
    "reserse_sentens = ''\n",
    "for char in sentence:\n",
    "    reverse_sentence =shar +reverser_sentence\n",
    "print(reverse_sentence)"
   ]
  },
  {
   "cell_type": "code",
   "execution_count": 153,
   "id": "0c70e02f",
   "metadata": {},
   "outputs": [
    {
     "ename": "SyntaxError",
     "evalue": "invalid syntax (<ipython-input-153-246143de4f5e>, line 3)",
     "output_type": "error",
     "traceback": [
      "\u001b[0;36m  File \u001b[0;32m\"<ipython-input-153-246143de4f5e>\"\u001b[0;36m, line \u001b[0;32m3\u001b[0m\n\u001b[0;31m    for _ in range((len(sentence)):\u001b[0m\n\u001b[0m                                  ^\u001b[0m\n\u001b[0;31mSyntaxError\u001b[0m\u001b[0;31m:\u001b[0m invalid syntax\n"
     ]
    }
   ],
   "source": [
    "sentenc = list('I love you')\n",
    "reverse_sentence = []\n",
    "for _ in range((len(sentence)):\n",
    "               reverse_Sentence.append(sentence.pop())"
   ]
  },
  {
   "cell_type": "code",
   "execution_count": 154,
   "id": "c7c7a6bc",
   "metadata": {},
   "outputs": [
    {
     "name": "stdout",
     "output_type": "stream",
     "text": [
      "uoy evol I\n"
     ]
    }
   ],
   "source": [
    "print(reverse_sentence)"
   ]
  },
  {
   "cell_type": "code",
   "execution_count": 155,
   "id": "abd8ce00",
   "metadata": {},
   "outputs": [
    {
     "name": "stdout",
     "output_type": "stream",
     "text": [
      "uoy evol I\n"
     ]
    }
   ],
   "source": [
    "print(''.join(reverse_sentence))"
   ]
  },
  {
   "cell_type": "code",
   "execution_count": 156,
   "id": "5d73febd",
   "metadata": {},
   "outputs": [
    {
     "name": "stdout",
     "output_type": "stream",
     "text": [
      " 0  0  0  0  0 \n",
      " 0  0  0  0  0 \n",
      " 0  0  0  0  0 \n",
      " 0  0  0  0  0 \n",
      " 0  0  0  0  0 \n"
     ]
    },
    {
     "ename": "NameError",
     "evalue": "name 'mabangjin' is not defined",
     "output_type": "error",
     "traceback": [
      "\u001b[0;31m---------------------------------------------------------------------------\u001b[0m",
      "\u001b[0;31mNameError\u001b[0m                                 Traceback (most recent call last)",
      "\u001b[0;32m<ipython-input-156-02dfb9991735>\u001b[0m in \u001b[0;36m<module>\u001b[0;34m\u001b[0m\n\u001b[1;32m      7\u001b[0m     \u001b[0mprint\u001b[0m\u001b[0;34m(\u001b[0m\u001b[0;34m)\u001b[0m\u001b[0;34m\u001b[0m\u001b[0;34m\u001b[0m\u001b[0m\n\u001b[1;32m      8\u001b[0m \u001b[0;34m\u001b[0m\u001b[0m\n\u001b[0;32m----> 9\u001b[0;31m \u001b[0mmabangjin\u001b[0m\u001b[0;34m(\u001b[0m\u001b[0mmap\u001b[0m\u001b[0;34m)\u001b[0m\u001b[0;34m\u001b[0m\u001b[0;34m\u001b[0m\u001b[0m\n\u001b[0m\u001b[1;32m     10\u001b[0m \u001b[0mprint\u001b[0m\u001b[0;34m(\u001b[0m\u001b[0;34m)\u001b[0m\u001b[0;34m\u001b[0m\u001b[0;34m\u001b[0m\u001b[0m\n\u001b[1;32m     11\u001b[0m \u001b[0;32mfor\u001b[0m \u001b[0mi\u001b[0m \u001b[0;32min\u001b[0m \u001b[0mrange\u001b[0m\u001b[0;34m(\u001b[0m\u001b[0;36m5\u001b[0m\u001b[0;34m)\u001b[0m\u001b[0;34m:\u001b[0m\u001b[0;34m\u001b[0m\u001b[0;34m\u001b[0m\u001b[0m\n",
      "\u001b[0;31mNameError\u001b[0m: name 'mabangjin' is not defined"
     ]
    }
   ],
   "source": [
    "map = []\n",
    "for i in range(5):\n",
    "    map.append(list())\n",
    "    for k in range(5):\n",
    "        map[i].append(0)\n",
    "        print(f\"{map[i][k]:2d} \",end='')\n",
    "    print()\n",
    "    \n",
    "mabangjin(map)\n",
    "print()\n",
    "for i in range(5):\n",
    "    for k in range(5):\n",
    "        print(f\"{map[i][k]:2d} \", end='')\n",
    "    print()"
   ]
  },
  {
   "cell_type": "code",
   "execution_count": null,
   "id": "ac237da6",
   "metadata": {},
   "outputs": [],
   "source": []
  }
 ],
 "metadata": {
  "kernelspec": {
   "display_name": "Python 3",
   "language": "python",
   "name": "python3"
  },
  "language_info": {
   "codemirror_mode": {
    "name": "ipython",
    "version": 3
   },
   "file_extension": ".py",
   "mimetype": "text/x-python",
   "name": "python",
   "nbconvert_exporter": "python",
   "pygments_lexer": "ipython3",
   "version": "3.8.11"
  }
 },
 "nbformat": 4,
 "nbformat_minor": 5
}
